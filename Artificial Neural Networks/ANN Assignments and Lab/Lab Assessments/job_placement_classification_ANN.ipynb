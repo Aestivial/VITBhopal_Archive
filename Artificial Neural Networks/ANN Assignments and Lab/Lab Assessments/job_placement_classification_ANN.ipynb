{
  "cells": [
    {
      "cell_type": "markdown",
      "id": "6d67b613",
      "metadata": {
        "id": "6d67b613",
        "papermill": {
          "duration": 0.015555,
          "end_time": "2023-01-25T08:53:44.827257",
          "exception": false,
          "start_time": "2023-01-25T08:53:44.811702",
          "status": "completed"
        },
        "tags": []
      },
      "source": [
        "# **Objective**\n",
        "\n",
        "To predict whether a person is having a job (i.e. placed) or not."
      ]
    },
    {
      "cell_type": "markdown",
      "id": "1c7e2950",
      "metadata": {
        "id": "1c7e2950",
        "papermill": {
          "duration": 0.015214,
          "end_time": "2023-01-25T08:53:44.859522",
          "exception": false,
          "start_time": "2023-01-25T08:53:44.844308",
          "status": "completed"
        },
        "tags": []
      },
      "source": [
        "# **Importing necessary libraries**"
      ]
    },
    {
      "cell_type": "code",
      "execution_count": 1,
      "id": "aeabae10",
      "metadata": {
        "execution": {
          "iopub.execute_input": "2023-01-25T08:53:44.888273Z",
          "iopub.status.busy": "2023-01-25T08:53:44.887486Z",
          "iopub.status.idle": "2023-01-25T08:53:46.505185Z",
          "shell.execute_reply": "2023-01-25T08:53:46.503808Z"
        },
        "id": "aeabae10",
        "papermill": {
          "duration": 1.635785,
          "end_time": "2023-01-25T08:53:46.508415",
          "exception": false,
          "start_time": "2023-01-25T08:53:44.872630",
          "status": "completed"
        },
        "tags": []
      },
      "outputs": [
        {
          "ename": "ModuleNotFoundError",
          "evalue": "No module named 'yellowbrick'",
          "output_type": "error",
          "traceback": [
            "\u001b[1;31m---------------------------------------------------------------------------\u001b[0m",
            "\u001b[1;31mModuleNotFoundError\u001b[0m                       Traceback (most recent call last)",
            "Cell \u001b[1;32mIn[1], line 10\u001b[0m\n\u001b[0;32m      8\u001b[0m \u001b[39mfrom\u001b[39;00m \u001b[39msklearn\u001b[39;00m\u001b[39m.\u001b[39;00m\u001b[39mpipeline\u001b[39;00m \u001b[39mimport\u001b[39;00m make_pipeline\n\u001b[0;32m      9\u001b[0m \u001b[39mfrom\u001b[39;00m \u001b[39msklearn\u001b[39;00m\u001b[39m.\u001b[39;00m\u001b[39mmetrics\u001b[39;00m \u001b[39mimport\u001b[39;00m accuracy_score, confusion_matrix, classification_report\n\u001b[1;32m---> 10\u001b[0m \u001b[39mfrom\u001b[39;00m \u001b[39myellowbrick\u001b[39;00m\u001b[39m.\u001b[39;00m\u001b[39mclassifier\u001b[39;00m \u001b[39mimport\u001b[39;00m ConfusionMatrix\n\u001b[0;32m     11\u001b[0m \u001b[39mfrom\u001b[39;00m \u001b[39msklearn\u001b[39;00m\u001b[39m.\u001b[39;00m\u001b[39msvm\u001b[39;00m \u001b[39mimport\u001b[39;00m SVC\n\u001b[0;32m     12\u001b[0m \u001b[39mfrom\u001b[39;00m \u001b[39msklearn\u001b[39;00m\u001b[39m.\u001b[39;00m\u001b[39mnaive_bayes\u001b[39;00m \u001b[39mimport\u001b[39;00m GaussianNB\n",
            "\u001b[1;31mModuleNotFoundError\u001b[0m: No module named 'yellowbrick'"
          ]
        }
      ],
      "source": [
        "import numpy as np\n",
        "import pandas as pd\n",
        "import seaborn as sns\n",
        "import matplotlib.pyplot as plt\n",
        "from sklearn.model_selection import train_test_split\n",
        "from sklearn.linear_model import LogisticRegression\n",
        "from sklearn.preprocessing import StandardScaler\n",
        "from sklearn.pipeline import make_pipeline\n",
        "from sklearn.metrics import accuracy_score, confusion_matrix, classification_report\n",
        "from yellowbrick.classifier import ConfusionMatrix\n",
        "from sklearn.svm import SVC\n",
        "from sklearn.naive_bayes import GaussianNB\n",
        "from sklearn.neighbors import KNeighborsClassifier\n",
        "from sklearn.tree import DecisionTreeClassifier\n",
        "from sklearn.ensemble import RandomForestClassifier\n",
        "from xgboost.sklearn import XGBClassifier\n",
        "import os"
      ]
    },
    {
      "cell_type": "markdown",
      "id": "a18d5a82",
      "metadata": {
        "id": "a18d5a82",
        "papermill": {
          "duration": 0.012418,
          "end_time": "2023-01-25T08:53:46.533929",
          "exception": false,
          "start_time": "2023-01-25T08:53:46.521511",
          "status": "completed"
        },
        "tags": []
      },
      "source": [
        "# **Importing the Data**"
      ]
    },
    {
      "cell_type": "code",
      "execution_count": null,
      "id": "a28c3163",
      "metadata": {
        "execution": {
          "iopub.execute_input": "2023-01-25T08:53:46.561186Z",
          "iopub.status.busy": "2023-01-25T08:53:46.560752Z",
          "iopub.status.idle": "2023-01-25T08:53:46.619105Z",
          "shell.execute_reply": "2023-01-25T08:53:46.617363Z"
        },
        "id": "a28c3163",
        "papermill": {
          "duration": 0.075471,
          "end_time": "2023-01-25T08:53:46.622105",
          "exception": false,
          "start_time": "2023-01-25T08:53:46.546634",
          "status": "completed"
        },
        "tags": []
      },
      "outputs": [],
      "source": [
        "df = pd.read_csv(r\"/content/Job_Placement_Data.csv\")"
      ]
    },
    {
      "cell_type": "markdown",
      "id": "0641be96",
      "metadata": {
        "id": "0641be96",
        "papermill": {
          "duration": 0.013171,
          "end_time": "2023-01-25T08:53:46.648609",
          "exception": false,
          "start_time": "2023-01-25T08:53:46.635438",
          "status": "completed"
        },
        "tags": []
      },
      "source": [
        "# Making a copy of the data to save original data from manipulations."
      ]
    },
    {
      "cell_type": "code",
      "execution_count": null,
      "id": "0febc0b4",
      "metadata": {
        "execution": {
          "iopub.execute_input": "2023-01-25T08:53:46.676831Z",
          "iopub.status.busy": "2023-01-25T08:53:46.676453Z",
          "iopub.status.idle": "2023-01-25T08:53:46.682104Z",
          "shell.execute_reply": "2023-01-25T08:53:46.680871Z"
        },
        "id": "0febc0b4",
        "papermill": {
          "duration": 0.022664,
          "end_time": "2023-01-25T08:53:46.684398",
          "exception": false,
          "start_time": "2023-01-25T08:53:46.661734",
          "status": "completed"
        },
        "tags": []
      },
      "outputs": [],
      "source": [
        "data = df.copy()"
      ]
    },
    {
      "cell_type": "markdown",
      "id": "ee28f775",
      "metadata": {
        "id": "ee28f775",
        "papermill": {
          "duration": 0.012842,
          "end_time": "2023-01-25T08:53:46.710559",
          "exception": false,
          "start_time": "2023-01-25T08:53:46.697717",
          "status": "completed"
        },
        "tags": []
      },
      "source": [
        "# **EDA**"
      ]
    },
    {
      "cell_type": "code",
      "execution_count": null,
      "id": "5ff73ecf",
      "metadata": {
        "colab": {
          "base_uri": "https://localhost:8080/"
        },
        "execution": {
          "iopub.execute_input": "2023-01-25T08:53:46.739192Z",
          "iopub.status.busy": "2023-01-25T08:53:46.738659Z",
          "iopub.status.idle": "2023-01-25T08:53:46.749774Z",
          "shell.execute_reply": "2023-01-25T08:53:46.748648Z"
        },
        "id": "5ff73ecf",
        "outputId": "fc763f6a-26a5-45be-c354-3772b76fb5c8",
        "papermill": {
          "duration": 0.028443,
          "end_time": "2023-01-25T08:53:46.752171",
          "exception": false,
          "start_time": "2023-01-25T08:53:46.723728",
          "status": "completed"
        },
        "tags": []
      },
      "outputs": [],
      "source": [
        "data.isna().sum()"
      ]
    },
    {
      "cell_type": "markdown",
      "id": "5d073e54",
      "metadata": {
        "id": "5d073e54",
        "papermill": {
          "duration": 0.013054,
          "end_time": "2023-01-25T08:53:46.779017",
          "exception": false,
          "start_time": "2023-01-25T08:53:46.765963",
          "status": "completed"
        },
        "tags": []
      },
      "source": [
        "**So, no missing value in our data.**"
      ]
    },
    {
      "cell_type": "code",
      "execution_count": null,
      "id": "5efba48d",
      "metadata": {
        "colab": {
          "base_uri": "https://localhost:8080/",
          "height": 113
        },
        "execution": {
          "iopub.execute_input": "2023-01-25T08:53:46.808442Z",
          "iopub.status.busy": "2023-01-25T08:53:46.807901Z",
          "iopub.status.idle": "2023-01-25T08:53:46.833842Z",
          "shell.execute_reply": "2023-01-25T08:53:46.832736Z"
        },
        "id": "5efba48d",
        "outputId": "9bb5bc9e-e679-4b4b-9101-0c4f4d5a7d72",
        "papermill": {
          "duration": 0.043609,
          "end_time": "2023-01-25T08:53:46.836336",
          "exception": false,
          "start_time": "2023-01-25T08:53:46.792727",
          "status": "completed"
        },
        "tags": []
      },
      "outputs": [],
      "source": [
        "data[data.duplicated()]"
      ]
    },
    {
      "cell_type": "markdown",
      "id": "01adf3e5",
      "metadata": {
        "id": "01adf3e5",
        "papermill": {
          "duration": 0.013719,
          "end_time": "2023-01-25T08:53:46.864256",
          "exception": false,
          "start_time": "2023-01-25T08:53:46.850537",
          "status": "completed"
        },
        "tags": []
      },
      "source": [
        "**No duplicate values exist in our data**"
      ]
    },
    {
      "cell_type": "code",
      "execution_count": null,
      "id": "8ce48e1c",
      "metadata": {
        "colab": {
          "base_uri": "https://localhost:8080/"
        },
        "execution": {
          "iopub.execute_input": "2023-01-25T08:53:46.894756Z",
          "iopub.status.busy": "2023-01-25T08:53:46.894309Z",
          "iopub.status.idle": "2023-01-25T08:53:46.914617Z",
          "shell.execute_reply": "2023-01-25T08:53:46.913381Z"
        },
        "id": "8ce48e1c",
        "outputId": "3cdd387c-95c3-4230-ddc9-6c76243e5ed7",
        "papermill": {
          "duration": 0.039157,
          "end_time": "2023-01-25T08:53:46.917450",
          "exception": false,
          "start_time": "2023-01-25T08:53:46.878293",
          "status": "completed"
        },
        "tags": []
      },
      "outputs": [],
      "source": [
        "data.info()"
      ]
    },
    {
      "cell_type": "markdown",
      "id": "be6d6283",
      "metadata": {
        "id": "be6d6283",
        "papermill": {
          "duration": 0.013382,
          "end_time": "2023-01-25T08:53:46.944756",
          "exception": false,
          "start_time": "2023-01-25T08:53:46.931374",
          "status": "completed"
        },
        "tags": []
      },
      "source": [
        "# **Visualizations**"
      ]
    },
    {
      "cell_type": "code",
      "execution_count": null,
      "id": "4631e0b8",
      "metadata": {
        "colab": {
          "base_uri": "https://localhost:8080/",
          "height": 379
        },
        "execution": {
          "iopub.execute_input": "2023-01-25T08:53:46.973595Z",
          "iopub.status.busy": "2023-01-25T08:53:46.973181Z",
          "iopub.status.idle": "2023-01-25T08:53:47.243992Z",
          "shell.execute_reply": "2023-01-25T08:53:47.243124Z"
        },
        "id": "4631e0b8",
        "outputId": "e02ff54f-d753-4d61-ee1b-f22862fdb2f6",
        "papermill": {
          "duration": 0.288085,
          "end_time": "2023-01-25T08:53:47.246289",
          "exception": false,
          "start_time": "2023-01-25T08:53:46.958204",
          "status": "completed"
        },
        "tags": []
      },
      "outputs": [],
      "source": [
        "sns.countplot(data=data,x='gender',hue='status')"
      ]
    },
    {
      "cell_type": "code",
      "execution_count": null,
      "id": "a7f7a297",
      "metadata": {
        "colab": {
          "base_uri": "https://localhost:8080/",
          "height": 379
        },
        "execution": {
          "iopub.execute_input": "2023-01-25T08:53:47.277086Z",
          "iopub.status.busy": "2023-01-25T08:53:47.276449Z",
          "iopub.status.idle": "2023-01-25T08:53:47.618978Z",
          "shell.execute_reply": "2023-01-25T08:53:47.618104Z"
        },
        "id": "a7f7a297",
        "outputId": "e17a99ec-b998-4dc6-85d4-4269597d964a",
        "papermill": {
          "duration": 0.360985,
          "end_time": "2023-01-25T08:53:47.621279",
          "exception": false,
          "start_time": "2023-01-25T08:53:47.260294",
          "status": "completed"
        },
        "tags": []
      },
      "outputs": [],
      "source": [
        "sns.violinplot(x='ssc_percentage',y='ssc_board',hue='status',data=data)\n",
        "plt.legend(bbox_to_anchor=(1.02,1))"
      ]
    },
    {
      "cell_type": "code",
      "execution_count": null,
      "id": "40551b3c",
      "metadata": {
        "colab": {
          "base_uri": "https://localhost:8080/",
          "height": 379
        },
        "execution": {
          "iopub.execute_input": "2023-01-25T08:53:47.652303Z",
          "iopub.status.busy": "2023-01-25T08:53:47.651881Z",
          "iopub.status.idle": "2023-01-25T08:53:47.881727Z",
          "shell.execute_reply": "2023-01-25T08:53:47.880828Z"
        },
        "id": "40551b3c",
        "outputId": "987b213c-406a-48de-baa2-06f2338e2cf3",
        "papermill": {
          "duration": 0.248347,
          "end_time": "2023-01-25T08:53:47.884245",
          "exception": false,
          "start_time": "2023-01-25T08:53:47.635898",
          "status": "completed"
        },
        "tags": []
      },
      "outputs": [],
      "source": [
        "sns.countplot(data=data,x='ssc_board',hue='status')\n",
        "plt.legend(bbox_to_anchor=(1.02,1))"
      ]
    },
    {
      "cell_type": "code",
      "execution_count": null,
      "id": "6edf62aa",
      "metadata": {
        "colab": {
          "base_uri": "https://localhost:8080/",
          "height": 379
        },
        "execution": {
          "iopub.execute_input": "2023-01-25T08:53:47.918027Z",
          "iopub.status.busy": "2023-01-25T08:53:47.916693Z",
          "iopub.status.idle": "2023-01-25T08:53:48.216330Z",
          "shell.execute_reply": "2023-01-25T08:53:48.214855Z"
        },
        "id": "6edf62aa",
        "outputId": "8f9d226f-32c2-45cc-99c2-bbb1c682faf9",
        "papermill": {
          "duration": 0.31928,
          "end_time": "2023-01-25T08:53:48.219167",
          "exception": false,
          "start_time": "2023-01-25T08:53:47.899887",
          "status": "completed"
        },
        "tags": []
      },
      "outputs": [],
      "source": [
        "sns.stripplot(data=data,x='ssc_board',y='ssc_percentage',hue='status')"
      ]
    },
    {
      "cell_type": "code",
      "execution_count": null,
      "id": "cb5646d9",
      "metadata": {
        "colab": {
          "base_uri": "https://localhost:8080/",
          "height": 366
        },
        "execution": {
          "iopub.execute_input": "2023-01-25T08:53:48.254862Z",
          "iopub.status.busy": "2023-01-25T08:53:48.254405Z",
          "iopub.status.idle": "2023-01-25T08:53:48.577468Z",
          "shell.execute_reply": "2023-01-25T08:53:48.576107Z"
        },
        "id": "cb5646d9",
        "outputId": "fba5169c-bde6-4aae-9123-1c42f3ef1f5a",
        "papermill": {
          "duration": 0.344313,
          "end_time": "2023-01-25T08:53:48.580348",
          "exception": false,
          "start_time": "2023-01-25T08:53:48.236035",
          "status": "completed"
        },
        "tags": []
      },
      "outputs": [],
      "source": [
        "sns.scatterplot(x=data.index,y=data['hsc_percentage'],hue=data['status'])\n",
        "plt.legend(bbox_to_anchor=(1.02,1))"
      ]
    },
    {
      "cell_type": "code",
      "execution_count": null,
      "id": "3a115fbe",
      "metadata": {
        "colab": {
          "base_uri": "https://localhost:8080/",
          "height": 380
        },
        "execution": {
          "iopub.execute_input": "2023-01-25T08:53:48.616202Z",
          "iopub.status.busy": "2023-01-25T08:53:48.615764Z",
          "iopub.status.idle": "2023-01-25T08:53:48.951050Z",
          "shell.execute_reply": "2023-01-25T08:53:48.949773Z"
        },
        "id": "3a115fbe",
        "outputId": "9df210c3-3ac5-47b4-d7c9-265d3cca0a9d",
        "papermill": {
          "duration": 0.355769,
          "end_time": "2023-01-25T08:53:48.953552",
          "exception": false,
          "start_time": "2023-01-25T08:53:48.597783",
          "status": "completed"
        },
        "tags": []
      },
      "outputs": [],
      "source": [
        "sns.stripplot(data=data,x='hsc_subject',y='hsc_percentage',hue='status')\n",
        "plt.legend(bbox_to_anchor=(1.3,1))"
      ]
    },
    {
      "cell_type": "code",
      "execution_count": null,
      "id": "2bf3acab",
      "metadata": {
        "colab": {
          "base_uri": "https://localhost:8080/",
          "height": 380
        },
        "execution": {
          "iopub.execute_input": "2023-01-25T08:53:48.990222Z",
          "iopub.status.busy": "2023-01-25T08:53:48.989690Z",
          "iopub.status.idle": "2023-01-25T08:53:49.312636Z",
          "shell.execute_reply": "2023-01-25T08:53:49.311411Z"
        },
        "id": "2bf3acab",
        "outputId": "6bf71fcf-470d-441e-f037-744d6a261aa9",
        "papermill": {
          "duration": 0.344945,
          "end_time": "2023-01-25T08:53:49.315747",
          "exception": false,
          "start_time": "2023-01-25T08:53:48.970802",
          "status": "completed"
        },
        "tags": []
      },
      "outputs": [],
      "source": [
        "sns.stripplot(data=data,x='hsc_board',y='hsc_percentage',hue='status')"
      ]
    },
    {
      "cell_type": "code",
      "execution_count": null,
      "id": "59d09b38",
      "metadata": {
        "colab": {
          "base_uri": "https://localhost:8080/",
          "height": 379
        },
        "execution": {
          "iopub.execute_input": "2023-01-25T08:53:49.354379Z",
          "iopub.status.busy": "2023-01-25T08:53:49.353257Z",
          "iopub.status.idle": "2023-01-25T08:53:49.675997Z",
          "shell.execute_reply": "2023-01-25T08:53:49.674318Z"
        },
        "id": "59d09b38",
        "outputId": "f83c55f1-790e-44a6-c7fb-aa1796ee10a3",
        "papermill": {
          "duration": 0.34532,
          "end_time": "2023-01-25T08:53:49.679424",
          "exception": false,
          "start_time": "2023-01-25T08:53:49.334104",
          "status": "completed"
        },
        "tags": []
      },
      "outputs": [],
      "source": [
        "sns.stripplot(data=data,x='undergrad_degree',y='degree_percentage',hue='status')\n",
        "plt.legend(bbox_to_anchor=(1.3,1))"
      ]
    },
    {
      "cell_type": "code",
      "execution_count": null,
      "id": "b9ae6af6",
      "metadata": {
        "colab": {
          "base_uri": "https://localhost:8080/",
          "height": 379
        },
        "execution": {
          "iopub.execute_input": "2023-01-25T08:53:49.720192Z",
          "iopub.status.busy": "2023-01-25T08:53:49.719739Z",
          "iopub.status.idle": "2023-01-25T08:53:49.951279Z",
          "shell.execute_reply": "2023-01-25T08:53:49.950081Z"
        },
        "id": "b9ae6af6",
        "outputId": "e1a048f8-bd23-40e1-921c-2bb650fca691",
        "papermill": {
          "duration": 0.255196,
          "end_time": "2023-01-25T08:53:49.954306",
          "exception": false,
          "start_time": "2023-01-25T08:53:49.699110",
          "status": "completed"
        },
        "tags": []
      },
      "outputs": [],
      "source": [
        "sns.countplot(data=data,x='undergrad_degree',hue='status')"
      ]
    },
    {
      "cell_type": "code",
      "execution_count": null,
      "id": "c26932d8",
      "metadata": {
        "colab": {
          "base_uri": "https://localhost:8080/",
          "height": 379
        },
        "execution": {
          "iopub.execute_input": "2023-01-25T08:53:49.997692Z",
          "iopub.status.busy": "2023-01-25T08:53:49.997276Z",
          "iopub.status.idle": "2023-01-25T08:53:50.312677Z",
          "shell.execute_reply": "2023-01-25T08:53:50.311170Z"
        },
        "id": "c26932d8",
        "outputId": "ac134d10-a374-4b4c-ec33-d97cc6137167",
        "papermill": {
          "duration": 0.341894,
          "end_time": "2023-01-25T08:53:50.315655",
          "exception": false,
          "start_time": "2023-01-25T08:53:49.973761",
          "status": "completed"
        },
        "tags": []
      },
      "outputs": [],
      "source": [
        "sns.stripplot(data=data,x='specialisation',y='mba_percent',hue='status')"
      ]
    },
    {
      "cell_type": "code",
      "execution_count": null,
      "id": "141e176d",
      "metadata": {
        "colab": {
          "base_uri": "https://localhost:8080/",
          "height": 379
        },
        "execution": {
          "iopub.execute_input": "2023-01-25T08:53:50.357165Z",
          "iopub.status.busy": "2023-01-25T08:53:50.356667Z",
          "iopub.status.idle": "2023-01-25T08:53:50.553755Z",
          "shell.execute_reply": "2023-01-25T08:53:50.552451Z"
        },
        "id": "141e176d",
        "outputId": "f09677e9-878c-4a4c-fe09-1fd2a7df3f81",
        "papermill": {
          "duration": 0.220963,
          "end_time": "2023-01-25T08:53:50.556436",
          "exception": false,
          "start_time": "2023-01-25T08:53:50.335473",
          "status": "completed"
        },
        "tags": []
      },
      "outputs": [],
      "source": [
        "sns.countplot(x=data['specialisation'])"
      ]
    },
    {
      "cell_type": "code",
      "execution_count": null,
      "id": "c994e65f",
      "metadata": {
        "colab": {
          "base_uri": "https://localhost:8080/",
          "height": 379
        },
        "execution": {
          "iopub.execute_input": "2023-01-25T08:53:50.599332Z",
          "iopub.status.busy": "2023-01-25T08:53:50.597868Z",
          "iopub.status.idle": "2023-01-25T08:53:50.817078Z",
          "shell.execute_reply": "2023-01-25T08:53:50.815694Z"
        },
        "id": "c994e65f",
        "outputId": "1f00a590-a7b3-4239-cf2e-ed22b0a984eb",
        "papermill": {
          "duration": 0.243559,
          "end_time": "2023-01-25T08:53:50.819859",
          "exception": false,
          "start_time": "2023-01-25T08:53:50.576300",
          "status": "completed"
        },
        "tags": []
      },
      "outputs": [],
      "source": [
        "sns.countplot(data=data,x='specialisation',hue='status')"
      ]
    },
    {
      "cell_type": "code",
      "execution_count": null,
      "id": "5f2a5d2b",
      "metadata": {
        "colab": {
          "base_uri": "https://localhost:8080/",
          "height": 381
        },
        "execution": {
          "iopub.execute_input": "2023-01-25T08:53:50.862373Z",
          "iopub.status.busy": "2023-01-25T08:53:50.861912Z",
          "iopub.status.idle": "2023-01-25T08:53:51.180944Z",
          "shell.execute_reply": "2023-01-25T08:53:51.179368Z"
        },
        "id": "5f2a5d2b",
        "outputId": "a5cf2945-d4ee-47c7-dbfa-a6c8d8bff3ff",
        "papermill": {
          "duration": 0.343404,
          "end_time": "2023-01-25T08:53:51.183625",
          "exception": false,
          "start_time": "2023-01-25T08:53:50.840221",
          "status": "completed"
        },
        "tags": []
      },
      "outputs": [],
      "source": [
        "sns.stripplot(data=data,x='work_experience',y='emp_test_percentage',hue='status')"
      ]
    },
    {
      "cell_type": "code",
      "execution_count": null,
      "id": "e8b68207",
      "metadata": {
        "colab": {
          "base_uri": "https://localhost:8080/",
          "height": 379
        },
        "execution": {
          "iopub.execute_input": "2023-01-25T08:53:51.227784Z",
          "iopub.status.busy": "2023-01-25T08:53:51.227176Z",
          "iopub.status.idle": "2023-01-25T08:53:51.593335Z",
          "shell.execute_reply": "2023-01-25T08:53:51.591857Z"
        },
        "id": "e8b68207",
        "outputId": "34d33bd4-fcb0-43f5-d686-7cfc47c5c37a",
        "papermill": {
          "duration": 0.392133,
          "end_time": "2023-01-25T08:53:51.596658",
          "exception": false,
          "start_time": "2023-01-25T08:53:51.204525",
          "status": "completed"
        },
        "tags": []
      },
      "outputs": [],
      "source": [
        "sns.countplot(data=data,x='work_experience',hue='status')\n",
        "plt.legend(bbox_to_anchor=(1.02,1))"
      ]
    },
    {
      "cell_type": "code",
      "execution_count": null,
      "id": "0e2a8243",
      "metadata": {
        "colab": {
          "base_uri": "https://localhost:8080/",
          "height": 381
        },
        "execution": {
          "iopub.execute_input": "2023-01-25T08:53:51.642417Z",
          "iopub.status.busy": "2023-01-25T08:53:51.641756Z",
          "iopub.status.idle": "2023-01-25T08:53:52.024649Z",
          "shell.execute_reply": "2023-01-25T08:53:52.023539Z"
        },
        "id": "0e2a8243",
        "outputId": "5fa9002e-69a2-4c60-9b4c-9d2fd871642c",
        "papermill": {
          "duration": 0.409055,
          "end_time": "2023-01-25T08:53:52.027585",
          "exception": false,
          "start_time": "2023-01-25T08:53:51.618530",
          "status": "completed"
        },
        "tags": []
      },
      "outputs": [],
      "source": [
        "sns.scatterplot(data=data,x='ssc_percentage',y='emp_test_percentage',hue='status',size='work_experience')\n",
        "plt.legend(bbox_to_anchor=(1.02,1))"
      ]
    },
    {
      "cell_type": "code",
      "execution_count": null,
      "id": "5cb41eb8",
      "metadata": {
        "colab": {
          "base_uri": "https://localhost:8080/",
          "height": 381
        },
        "execution": {
          "iopub.execute_input": "2023-01-25T08:53:52.076712Z",
          "iopub.status.busy": "2023-01-25T08:53:52.076206Z",
          "iopub.status.idle": "2023-01-25T08:53:52.480378Z",
          "shell.execute_reply": "2023-01-25T08:53:52.479246Z"
        },
        "id": "5cb41eb8",
        "outputId": "8bc079e0-d54e-45aa-a289-7493a9b28d82",
        "papermill": {
          "duration": 0.432507,
          "end_time": "2023-01-25T08:53:52.483357",
          "exception": false,
          "start_time": "2023-01-25T08:53:52.050850",
          "status": "completed"
        },
        "tags": []
      },
      "outputs": [],
      "source": [
        "sns.scatterplot(data=data,x='hsc_percentage',y='emp_test_percentage',hue='status',size='work_experience')\n",
        "plt.legend(bbox_to_anchor=(1.02,1))"
      ]
    },
    {
      "cell_type": "code",
      "execution_count": null,
      "id": "1aac202a",
      "metadata": {
        "colab": {
          "base_uri": "https://localhost:8080/",
          "height": 381
        },
        "execution": {
          "iopub.execute_input": "2023-01-25T08:53:52.530943Z",
          "iopub.status.busy": "2023-01-25T08:53:52.530163Z",
          "iopub.status.idle": "2023-01-25T08:53:52.956582Z",
          "shell.execute_reply": "2023-01-25T08:53:52.955612Z"
        },
        "id": "1aac202a",
        "outputId": "0e4e3b77-a89d-4f7f-cf70-4271ad227c95",
        "papermill": {
          "duration": 0.453144,
          "end_time": "2023-01-25T08:53:52.959120",
          "exception": false,
          "start_time": "2023-01-25T08:53:52.505976",
          "status": "completed"
        },
        "tags": []
      },
      "outputs": [],
      "source": [
        "sns.scatterplot(data=data,x='degree_percentage',y='emp_test_percentage',hue='status',size='work_experience')\n",
        "plt.legend(bbox_to_anchor=(1.02,1))"
      ]
    },
    {
      "cell_type": "code",
      "execution_count": null,
      "id": "e1035d02",
      "metadata": {
        "colab": {
          "base_uri": "https://localhost:8080/",
          "height": 381
        },
        "execution": {
          "iopub.execute_input": "2023-01-25T08:53:53.010375Z",
          "iopub.status.busy": "2023-01-25T08:53:53.009370Z",
          "iopub.status.idle": "2023-01-25T08:53:53.438725Z",
          "shell.execute_reply": "2023-01-25T08:53:53.437175Z"
        },
        "id": "e1035d02",
        "outputId": "ba4d960b-518b-4873-9a9d-1d15ef6e5f0b",
        "papermill": {
          "duration": 0.458634,
          "end_time": "2023-01-25T08:53:53.441215",
          "exception": false,
          "start_time": "2023-01-25T08:53:52.982581",
          "status": "completed"
        },
        "tags": []
      },
      "outputs": [],
      "source": [
        "sns.scatterplot(data=data,x='mba_percent',y='emp_test_percentage',hue='status',size='work_experience')\n",
        "plt.legend(bbox_to_anchor=(1.02,1))"
      ]
    },
    {
      "cell_type": "code",
      "execution_count": null,
      "id": "6cf340e1",
      "metadata": {
        "colab": {
          "base_uri": "https://localhost:8080/",
          "height": 367
        },
        "execution": {
          "iopub.execute_input": "2023-01-25T08:53:53.494897Z",
          "iopub.status.busy": "2023-01-25T08:53:53.494028Z",
          "iopub.status.idle": "2023-01-25T08:53:53.887176Z",
          "shell.execute_reply": "2023-01-25T08:53:53.885987Z"
        },
        "id": "6cf340e1",
        "outputId": "23f8da04-db47-4443-cdbc-d87c6d192119",
        "papermill": {
          "duration": 0.423032,
          "end_time": "2023-01-25T08:53:53.890030",
          "exception": false,
          "start_time": "2023-01-25T08:53:53.466998",
          "status": "completed"
        },
        "tags": []
      },
      "outputs": [],
      "source": [
        "sns.scatterplot(data=data,x=data.index,y='emp_test_percentage',hue='status',size='specialisation')\n",
        "plt.legend(bbox_to_anchor=(1.02,1))"
      ]
    },
    {
      "cell_type": "markdown",
      "id": "c86fda3d",
      "metadata": {
        "id": "c86fda3d",
        "papermill": {
          "duration": 0.027343,
          "end_time": "2023-01-25T08:53:53.945055",
          "exception": false,
          "start_time": "2023-01-25T08:53:53.917712",
          "status": "completed"
        },
        "tags": []
      },
      "source": [
        "**We have 5 float variables and 8 object type variables, so converting the object type data to numerical type.**"
      ]
    },
    {
      "cell_type": "markdown",
      "id": "a66f384b",
      "metadata": {
        "id": "a66f384b",
        "papermill": {
          "duration": 0.027016,
          "end_time": "2023-01-25T08:53:53.999476",
          "exception": false,
          "start_time": "2023-01-25T08:53:53.972460",
          "status": "completed"
        },
        "tags": []
      },
      "source": [
        "# **Encoding**"
      ]
    },
    {
      "cell_type": "code",
      "execution_count": null,
      "id": "b0771893",
      "metadata": {
        "execution": {
          "iopub.execute_input": "2023-01-25T08:53:54.058910Z",
          "iopub.status.busy": "2023-01-25T08:53:54.058207Z",
          "iopub.status.idle": "2023-01-25T08:53:54.065558Z",
          "shell.execute_reply": "2023-01-25T08:53:54.064398Z"
        },
        "id": "b0771893",
        "papermill": {
          "duration": 0.039126,
          "end_time": "2023-01-25T08:53:54.068203",
          "exception": false,
          "start_time": "2023-01-25T08:53:54.029077",
          "status": "completed"
        },
        "tags": []
      },
      "outputs": [],
      "source": [
        "data['gender'].value_counts()\n",
        "gender_n = {'M':0,'F':1}\n",
        "data['gender']=data['gender'].map(gender_n)"
      ]
    },
    {
      "cell_type": "code",
      "execution_count": null,
      "id": "90ac4190",
      "metadata": {
        "execution": {
          "iopub.execute_input": "2023-01-25T08:53:54.123539Z",
          "iopub.status.busy": "2023-01-25T08:53:54.122829Z",
          "iopub.status.idle": "2023-01-25T08:53:54.130685Z",
          "shell.execute_reply": "2023-01-25T08:53:54.129558Z"
        },
        "id": "90ac4190",
        "papermill": {
          "duration": 0.03819,
          "end_time": "2023-01-25T08:53:54.133274",
          "exception": false,
          "start_time": "2023-01-25T08:53:54.095084",
          "status": "completed"
        },
        "tags": []
      },
      "outputs": [],
      "source": [
        "data['ssc_board'].value_counts()\n",
        "ssc = {'Central':0,'Others':1}\n",
        "data['ssc_board'] = data['ssc_board'].map(ssc)"
      ]
    },
    {
      "cell_type": "code",
      "execution_count": null,
      "id": "37e4b59f",
      "metadata": {
        "execution": {
          "iopub.execute_input": "2023-01-25T08:53:54.187605Z",
          "iopub.status.busy": "2023-01-25T08:53:54.186599Z",
          "iopub.status.idle": "2023-01-25T08:53:54.193681Z",
          "shell.execute_reply": "2023-01-25T08:53:54.192721Z"
        },
        "id": "37e4b59f",
        "papermill": {
          "duration": 0.03708,
          "end_time": "2023-01-25T08:53:54.196207",
          "exception": false,
          "start_time": "2023-01-25T08:53:54.159127",
          "status": "completed"
        },
        "tags": []
      },
      "outputs": [],
      "source": [
        "data['hsc_board'].value_counts()\n",
        "hsc = {'Central':0,'Others':1}\n",
        "data['hsc_board'] = data['hsc_board'].map(hsc)"
      ]
    },
    {
      "cell_type": "code",
      "execution_count": null,
      "id": "39e819eb",
      "metadata": {
        "colab": {
          "base_uri": "https://localhost:8080/"
        },
        "execution": {
          "iopub.execute_input": "2023-01-25T08:53:54.252063Z",
          "iopub.status.busy": "2023-01-25T08:53:54.251584Z",
          "iopub.status.idle": "2023-01-25T08:53:54.261947Z",
          "shell.execute_reply": "2023-01-25T08:53:54.260829Z"
        },
        "id": "39e819eb",
        "outputId": "7a808b73-4068-45e5-f42c-bf9b32bf7a30",
        "papermill": {
          "duration": 0.040824,
          "end_time": "2023-01-25T08:53:54.264562",
          "exception": false,
          "start_time": "2023-01-25T08:53:54.223738",
          "status": "completed"
        },
        "tags": []
      },
      "outputs": [],
      "source": [
        "data['hsc_subject'].value_counts()\n",
        "data['undergrad_degree'].value_counts()"
      ]
    },
    {
      "cell_type": "code",
      "execution_count": null,
      "id": "6ab12f55",
      "metadata": {
        "execution": {
          "iopub.execute_input": "2023-01-25T08:53:54.319316Z",
          "iopub.status.busy": "2023-01-25T08:53:54.318627Z",
          "iopub.status.idle": "2023-01-25T08:53:54.325519Z",
          "shell.execute_reply": "2023-01-25T08:53:54.324606Z"
        },
        "id": "6ab12f55",
        "papermill": {
          "duration": 0.037218,
          "end_time": "2023-01-25T08:53:54.327978",
          "exception": false,
          "start_time": "2023-01-25T08:53:54.290760",
          "status": "completed"
        },
        "tags": []
      },
      "outputs": [],
      "source": [
        "data['work_experience'].value_counts()\n",
        "work = {'Yes':1,'No':0}\n",
        "data['work_experience']=data['work_experience'].map(work)"
      ]
    },
    {
      "cell_type": "code",
      "execution_count": null,
      "id": "71683d65",
      "metadata": {
        "execution": {
          "iopub.execute_input": "2023-01-25T08:53:54.386434Z",
          "iopub.status.busy": "2023-01-25T08:53:54.385986Z",
          "iopub.status.idle": "2023-01-25T08:53:54.394176Z",
          "shell.execute_reply": "2023-01-25T08:53:54.392693Z"
        },
        "id": "71683d65",
        "papermill": {
          "duration": 0.039773,
          "end_time": "2023-01-25T08:53:54.396474",
          "exception": false,
          "start_time": "2023-01-25T08:53:54.356701",
          "status": "completed"
        },
        "tags": []
      },
      "outputs": [],
      "source": [
        "data['specialisation'].value_counts()\n",
        "spec = {'Mkt&Fin':1,'Mkt&HR':0}\n",
        "data['specialisation'] = data['specialisation'].map(spec)"
      ]
    },
    {
      "cell_type": "code",
      "execution_count": null,
      "id": "99b33b36",
      "metadata": {
        "execution": {
          "iopub.execute_input": "2023-01-25T08:53:54.451352Z",
          "iopub.status.busy": "2023-01-25T08:53:54.450654Z",
          "iopub.status.idle": "2023-01-25T08:53:54.459066Z",
          "shell.execute_reply": "2023-01-25T08:53:54.457841Z"
        },
        "id": "99b33b36",
        "papermill": {
          "duration": 0.039048,
          "end_time": "2023-01-25T08:53:54.461846",
          "exception": false,
          "start_time": "2023-01-25T08:53:54.422798",
          "status": "completed"
        },
        "tags": []
      },
      "outputs": [],
      "source": [
        "data['status'].value_counts()\n",
        "status = {'Placed':1,'Not Placed':0}\n",
        "data['status'] = data['status'].map(status)"
      ]
    },
    {
      "cell_type": "code",
      "execution_count": null,
      "id": "7bc34b92",
      "metadata": {
        "colab": {
          "base_uri": "https://localhost:8080/",
          "height": 487
        },
        "execution": {
          "iopub.execute_input": "2023-01-25T08:53:54.516838Z",
          "iopub.status.busy": "2023-01-25T08:53:54.516408Z",
          "iopub.status.idle": "2023-01-25T08:53:54.543661Z",
          "shell.execute_reply": "2023-01-25T08:53:54.542159Z"
        },
        "id": "7bc34b92",
        "outputId": "e4670171-9cea-41aa-8269-aaa53d0b606f",
        "papermill": {
          "duration": 0.05851,
          "end_time": "2023-01-25T08:53:54.546531",
          "exception": false,
          "start_time": "2023-01-25T08:53:54.488021",
          "status": "completed"
        },
        "tags": []
      },
      "outputs": [],
      "source": [
        "data"
      ]
    },
    {
      "cell_type": "code",
      "execution_count": null,
      "id": "73efe3ab",
      "metadata": {
        "colab": {
          "base_uri": "https://localhost:8080/",
          "height": 487
        },
        "execution": {
          "iopub.execute_input": "2023-01-25T08:53:54.601478Z",
          "iopub.status.busy": "2023-01-25T08:53:54.600967Z",
          "iopub.status.idle": "2023-01-25T08:53:54.637557Z",
          "shell.execute_reply": "2023-01-25T08:53:54.636058Z"
        },
        "id": "73efe3ab",
        "outputId": "bfea56eb-2004-4962-9c1f-a24846f6faec",
        "papermill": {
          "duration": 0.067063,
          "end_time": "2023-01-25T08:53:54.640209",
          "exception": false,
          "start_time": "2023-01-25T08:53:54.573146",
          "status": "completed"
        },
        "tags": []
      },
      "outputs": [],
      "source": [
        "data = pd.get_dummies(data,drop_first=True)\n",
        "data"
      ]
    },
    {
      "cell_type": "code",
      "execution_count": null,
      "id": "ebe280e6",
      "metadata": {
        "colab": {
          "base_uri": "https://localhost:8080/",
          "height": 364
        },
        "execution": {
          "iopub.execute_input": "2023-01-25T08:53:54.697553Z",
          "iopub.status.busy": "2023-01-25T08:53:54.696277Z",
          "iopub.status.idle": "2023-01-25T08:53:54.759528Z",
          "shell.execute_reply": "2023-01-25T08:53:54.758160Z"
        },
        "id": "ebe280e6",
        "outputId": "05ed27cd-93fd-42c3-a7d5-04912d1dd377",
        "papermill": {
          "duration": 0.095608,
          "end_time": "2023-01-25T08:53:54.762277",
          "exception": false,
          "start_time": "2023-01-25T08:53:54.666669",
          "status": "completed"
        },
        "tags": []
      },
      "outputs": [],
      "source": [
        "data.describe()"
      ]
    },
    {
      "cell_type": "code",
      "execution_count": null,
      "id": "d516576d",
      "metadata": {
        "colab": {
          "base_uri": "https://localhost:8080/",
          "height": 583
        },
        "execution": {
          "iopub.execute_input": "2023-01-25T08:53:54.821482Z",
          "iopub.status.busy": "2023-01-25T08:53:54.820942Z",
          "iopub.status.idle": "2023-01-25T08:53:54.854775Z",
          "shell.execute_reply": "2023-01-25T08:53:54.853304Z"
        },
        "id": "d516576d",
        "outputId": "108085f2-2258-4969-a262-e917ab54dfd5",
        "papermill": {
          "duration": 0.067183,
          "end_time": "2023-01-25T08:53:54.857784",
          "exception": false,
          "start_time": "2023-01-25T08:53:54.790601",
          "status": "completed"
        },
        "tags": []
      },
      "outputs": [],
      "source": [
        "data.corr()"
      ]
    },
    {
      "cell_type": "code",
      "execution_count": null,
      "id": "d98f0633",
      "metadata": {
        "colab": {
          "base_uri": "https://localhost:8080/",
          "height": 488
        },
        "execution": {
          "iopub.execute_input": "2023-01-25T08:53:54.921221Z",
          "iopub.status.busy": "2023-01-25T08:53:54.920694Z",
          "iopub.status.idle": "2023-01-25T08:53:55.488180Z",
          "shell.execute_reply": "2023-01-25T08:53:55.486593Z"
        },
        "id": "d98f0633",
        "outputId": "f4ad3417-7f78-4c16-9cbc-8a5080b414a1",
        "papermill": {
          "duration": 0.60238,
          "end_time": "2023-01-25T08:53:55.490993",
          "exception": false,
          "start_time": "2023-01-25T08:53:54.888613",
          "status": "completed"
        },
        "tags": []
      },
      "outputs": [],
      "source": [
        "sns.heatmap(data.corr(),cmap='viridis')"
      ]
    },
    {
      "cell_type": "markdown",
      "id": "f225be20",
      "metadata": {
        "id": "f225be20",
        "papermill": {
          "duration": 0.029179,
          "end_time": "2023-01-25T08:53:55.550570",
          "exception": false,
          "start_time": "2023-01-25T08:53:55.521391",
          "status": "completed"
        },
        "tags": []
      },
      "source": [
        "# **ML Algorithms**"
      ]
    },
    {
      "cell_type": "code",
      "execution_count": null,
      "id": "8a796a83",
      "metadata": {
        "execution": {
          "iopub.execute_input": "2023-01-25T08:53:55.612695Z",
          "iopub.status.busy": "2023-01-25T08:53:55.612296Z",
          "iopub.status.idle": "2023-01-25T08:53:55.620677Z",
          "shell.execute_reply": "2023-01-25T08:53:55.619617Z"
        },
        "id": "8a796a83",
        "papermill": {
          "duration": 0.042741,
          "end_time": "2023-01-25T08:53:55.622848",
          "exception": false,
          "start_time": "2023-01-25T08:53:55.580107",
          "status": "completed"
        },
        "tags": []
      },
      "outputs": [],
      "source": [
        "features = data.columns.tolist()\n",
        "features = set(features)-{'status'}\n",
        "x_train,x_test,y_train,y_test = train_test_split(data[features],data.status,test_size=0.2)\n"
      ]
    },
    {
      "cell_type": "markdown",
      "id": "441fe4d8",
      "metadata": {
        "id": "441fe4d8",
        "papermill": {
          "duration": 0.028389,
          "end_time": "2023-01-25T08:53:55.680023",
          "exception": false,
          "start_time": "2023-01-25T08:53:55.651634",
          "status": "completed"
        },
        "tags": []
      },
      "source": [
        "**1. Logistic Regression**"
      ]
    },
    {
      "cell_type": "code",
      "execution_count": null,
      "id": "770242af",
      "metadata": {
        "colab": {
          "base_uri": "https://localhost:8080/",
          "height": 709
        },
        "execution": {
          "iopub.execute_input": "2023-01-25T08:53:55.738940Z",
          "iopub.status.busy": "2023-01-25T08:53:55.738482Z",
          "iopub.status.idle": "2023-01-25T08:53:55.785813Z",
          "shell.execute_reply": "2023-01-25T08:53:55.784119Z"
        },
        "id": "770242af",
        "outputId": "08ee7de6-09a5-42bd-bf45-7087d480db5e",
        "papermill": {
          "duration": 0.080071,
          "end_time": "2023-01-25T08:53:55.788412",
          "exception": false,
          "start_time": "2023-01-25T08:53:55.708341",
          "status": "completed"
        },
        "tags": []
      },
      "outputs": [],
      "source": [
        "log_reg = LogisticRegression(random_state=0)\n",
        "log_reg.fit(x_train,y_train)\n",
        "pred_log = log_reg.predict(x_test)\n",
        "acc_log = accuracy_score(y_test,pred_log)\n",
        "print(acc_log)\n",
        "cm = ConfusionMatrix(log_reg)\n",
        "cm.fit(x_train, y_train)\n",
        "cm.score(x_test, y_test)\n",
        "conf_log = confusion_matrix(y_test,pred_log)\n",
        "conf_log\n",
        "logistic_normal = (classification_report(y_test, pred_log))\n",
        "print(logistic_normal)"
      ]
    },
    {
      "cell_type": "markdown",
      "id": "b6be430a",
      "metadata": {
        "id": "b6be430a",
        "papermill": {
          "duration": 0.028065,
          "end_time": "2023-01-25T08:53:55.846185",
          "exception": false,
          "start_time": "2023-01-25T08:53:55.818120",
          "status": "completed"
        },
        "tags": []
      },
      "source": [
        "**2. Support Vector Machines**"
      ]
    },
    {
      "cell_type": "code",
      "execution_count": null,
      "id": "6a0870d5",
      "metadata": {
        "colab": {
          "base_uri": "https://localhost:8080/",
          "height": 599
        },
        "execution": {
          "iopub.execute_input": "2023-01-25T08:53:55.905241Z",
          "iopub.status.busy": "2023-01-25T08:53:55.904774Z",
          "iopub.status.idle": "2023-01-25T08:53:55.924655Z",
          "shell.execute_reply": "2023-01-25T08:53:55.923012Z"
        },
        "id": "6a0870d5",
        "outputId": "be15771c-7613-45a0-d952-c5244609139d",
        "papermill": {
          "duration": 0.052681,
          "end_time": "2023-01-25T08:53:55.927280",
          "exception": false,
          "start_time": "2023-01-25T08:53:55.874599",
          "status": "completed"
        },
        "tags": []
      },
      "outputs": [],
      "source": [
        "svm = SVC(kernel='poly',degree=4)\n",
        "svm.fit(x_train,y_train)\n",
        "pred_svm = svm.predict(x_test)\n",
        "acc_svm = accuracy_score(y_test,pred_svm)\n",
        "cm = ConfusionMatrix(svm)\n",
        "cm.fit(x_train, y_train)\n",
        "cm.score(x_test, y_test)\n",
        "svm = classification_report(y_test, pred_svm)\n",
        "print(svm)\n",
        "print(acc_svm)\n",
        "conf_svm = confusion_matrix(y_test,pred_svm)\n",
        "conf_svm"
      ]
    },
    {
      "cell_type": "markdown",
      "id": "08ccc0d2",
      "metadata": {
        "id": "08ccc0d2",
        "papermill": {
          "duration": 0.028479,
          "end_time": "2023-01-25T08:53:55.984792",
          "exception": false,
          "start_time": "2023-01-25T08:53:55.956313",
          "status": "completed"
        },
        "tags": []
      },
      "source": [
        "**3. Gaussian Naive Bayes**"
      ]
    },
    {
      "cell_type": "code",
      "execution_count": null,
      "id": "7cb92475",
      "metadata": {
        "colab": {
          "base_uri": "https://localhost:8080/",
          "height": 599
        },
        "execution": {
          "iopub.execute_input": "2023-01-25T08:53:56.045724Z",
          "iopub.status.busy": "2023-01-25T08:53:56.045318Z",
          "iopub.status.idle": "2023-01-25T08:53:56.061780Z",
          "shell.execute_reply": "2023-01-25T08:53:56.059862Z"
        },
        "id": "7cb92475",
        "outputId": "19d271c0-02d2-472d-9ff2-86ae0851ea67",
        "papermill": {
          "duration": 0.050048,
          "end_time": "2023-01-25T08:53:56.064743",
          "exception": false,
          "start_time": "2023-01-25T08:53:56.014695",
          "status": "completed"
        },
        "tags": []
      },
      "outputs": [],
      "source": [
        "gaussianNB = GaussianNB()\n",
        "gaussianNB.fit(x_train,y_train)\n",
        "pred_gaussianNB = gaussianNB.predict(x_test)\n",
        "acc_gaussianNB = accuracy_score(y_test,pred_gaussianNB)\n",
        "cm = ConfusionMatrix(gaussianNB)\n",
        "cm.fit(x_train, y_train)\n",
        "cm.score(x_test, y_test)\n",
        "gaussianNB = classification_report(y_test, pred_gaussianNB)\n",
        "print(gaussianNB)\n",
        "print(acc_gaussianNB)\n",
        "conf_gaussianNB = confusion_matrix(y_test,pred_gaussianNB)\n",
        "conf_gaussianNB"
      ]
    },
    {
      "cell_type": "markdown",
      "id": "c50e8009",
      "metadata": {
        "id": "c50e8009",
        "papermill": {
          "duration": 0.030682,
          "end_time": "2023-01-25T08:53:56.125148",
          "exception": false,
          "start_time": "2023-01-25T08:53:56.094466",
          "status": "completed"
        },
        "tags": []
      },
      "source": [
        "**4. K-nearest Neighbor**"
      ]
    },
    {
      "cell_type": "code",
      "execution_count": null,
      "id": "dcee0c81",
      "metadata": {
        "colab": {
          "base_uri": "https://localhost:8080/",
          "height": 599
        },
        "execution": {
          "iopub.execute_input": "2023-01-25T08:53:56.185263Z",
          "iopub.status.busy": "2023-01-25T08:53:56.184804Z",
          "iopub.status.idle": "2023-01-25T08:53:56.205483Z",
          "shell.execute_reply": "2023-01-25T08:53:56.204116Z"
        },
        "id": "dcee0c81",
        "outputId": "930824ec-1d32-4e62-ffe9-c456531c76d7",
        "papermill": {
          "duration": 0.053729,
          "end_time": "2023-01-25T08:53:56.207930",
          "exception": false,
          "start_time": "2023-01-25T08:53:56.154201",
          "status": "completed"
        },
        "tags": []
      },
      "outputs": [],
      "source": [
        "knn = KNeighborsClassifier(n_neighbors=7)\n",
        "knn.fit(x_train,y_train)\n",
        "pred_knn = knn.predict(x_test)\n",
        "acc_knn = accuracy_score(y_test,pred_knn)\n",
        "cm = ConfusionMatrix(knn)\n",
        "cm.fit(x_train, y_train)\n",
        "cm.score(x_test, y_test)\n",
        "knn = classification_report(y_test, pred_knn)\n",
        "print(knn)\n",
        "print(acc_knn)\n",
        "conf_knn = confusion_matrix(y_test,pred_knn)\n",
        "conf_knn"
      ]
    },
    {
      "cell_type": "markdown",
      "id": "3350c6c5",
      "metadata": {
        "id": "3350c6c5",
        "papermill": {
          "duration": 0.029055,
          "end_time": "2023-01-25T08:53:56.266577",
          "exception": false,
          "start_time": "2023-01-25T08:53:56.237522",
          "status": "completed"
        },
        "tags": []
      },
      "source": [
        "**5. Decision Tree**"
      ]
    },
    {
      "cell_type": "code",
      "execution_count": null,
      "id": "7c0e40ed",
      "metadata": {
        "colab": {
          "base_uri": "https://localhost:8080/",
          "height": 599
        },
        "execution": {
          "iopub.execute_input": "2023-01-25T08:53:56.327991Z",
          "iopub.status.busy": "2023-01-25T08:53:56.327513Z",
          "iopub.status.idle": "2023-01-25T08:53:56.343499Z",
          "shell.execute_reply": "2023-01-25T08:53:56.342032Z"
        },
        "id": "7c0e40ed",
        "outputId": "f5afb09b-d29b-453e-dbb5-93d620ea262e",
        "papermill": {
          "duration": 0.049705,
          "end_time": "2023-01-25T08:53:56.346196",
          "exception": false,
          "start_time": "2023-01-25T08:53:56.296491",
          "status": "completed"
        },
        "tags": []
      },
      "outputs": [],
      "source": [
        "decision_tree = DecisionTreeClassifier(criterion='entropy')\n",
        "decision_tree.fit(x_train,y_train)\n",
        "pred_tree = decision_tree.predict(x_test)\n",
        "acc_tree = accuracy_score(y_test,pred_tree)\n",
        "cm = ConfusionMatrix(decision_tree)\n",
        "cm.fit(x_train, y_train)\n",
        "cm.score(x_test, y_test)\n",
        "decision_tree = classification_report(y_test, pred_tree)\n",
        "print(decision_tree)\n",
        "print(acc_tree)\n",
        "conf_tree = confusion_matrix(y_test,pred_tree)\n",
        "conf_tree"
      ]
    },
    {
      "cell_type": "markdown",
      "id": "3177ec9d",
      "metadata": {
        "id": "3177ec9d",
        "papermill": {
          "duration": 0.029092,
          "end_time": "2023-01-25T08:53:56.404375",
          "exception": false,
          "start_time": "2023-01-25T08:53:56.375283",
          "status": "completed"
        },
        "tags": []
      },
      "source": [
        "**6. Random Forest**"
      ]
    },
    {
      "cell_type": "code",
      "execution_count": null,
      "id": "acd1f352",
      "metadata": {
        "colab": {
          "base_uri": "https://localhost:8080/",
          "height": 599
        },
        "execution": {
          "iopub.execute_input": "2023-01-25T08:53:56.466135Z",
          "iopub.status.busy": "2023-01-25T08:53:56.465650Z",
          "iopub.status.idle": "2023-01-25T08:53:56.641200Z",
          "shell.execute_reply": "2023-01-25T08:53:56.639149Z"
        },
        "id": "acd1f352",
        "outputId": "460e2814-1b4e-4b1a-ee6f-5d42c11fdfbb",
        "papermill": {
          "duration": 0.20969,
          "end_time": "2023-01-25T08:53:56.643943",
          "exception": false,
          "start_time": "2023-01-25T08:53:56.434253",
          "status": "completed"
        },
        "tags": []
      },
      "outputs": [],
      "source": [
        "rand_forest = RandomForestClassifier()\n",
        "rand_forest.fit(x_train,y_train)\n",
        "pred_forest = rand_forest.predict(x_test)\n",
        "acc_forest = accuracy_score(y_test,pred_forest)\n",
        "cm = ConfusionMatrix(rand_forest)\n",
        "cm.fit(x_train, y_train)\n",
        "cm.score(x_test, y_test)\n",
        "rand_forest = classification_report(y_test, pred_forest)\n",
        "print(rand_forest)\n",
        "print(acc_forest)\n",
        "conf_forest = confusion_matrix(y_test,pred_forest)\n",
        "conf_forest"
      ]
    },
    {
      "cell_type": "markdown",
      "id": "aced3c6a",
      "metadata": {
        "id": "aced3c6a",
        "papermill": {
          "duration": 0.030271,
          "end_time": "2023-01-25T08:53:56.704783",
          "exception": false,
          "start_time": "2023-01-25T08:53:56.674512",
          "status": "completed"
        },
        "tags": []
      },
      "source": [
        "**7. XGB Classifier**"
      ]
    },
    {
      "cell_type": "code",
      "execution_count": null,
      "id": "3add653e",
      "metadata": {
        "colab": {
          "base_uri": "https://localhost:8080/",
          "height": 563
        },
        "execution": {
          "iopub.execute_input": "2023-01-25T08:53:56.768092Z",
          "iopub.status.busy": "2023-01-25T08:53:56.767664Z",
          "iopub.status.idle": "2023-01-25T08:53:57.286520Z",
          "shell.execute_reply": "2023-01-25T08:53:57.283722Z"
        },
        "id": "3add653e",
        "outputId": "d552564a-86ed-47d0-9d7e-6756fb5c64b8",
        "papermill": {
          "duration": 0.554475,
          "end_time": "2023-01-25T08:53:57.289765",
          "exception": false,
          "start_time": "2023-01-25T08:53:56.735290",
          "status": "completed"
        },
        "tags": []
      },
      "outputs": [],
      "source": [
        "xgb = XGBClassifier(n_estimators=200)\n",
        "xgb.fit(x_train,y_train)\n",
        "pred_xgb = xgb.predict(x_test)\n",
        "acc_xgb = accuracy_score(y_test,pred_xgb)\n",
        "cm = ConfusionMatrix(xgb)\n",
        "cm.fit(x_train, y_train)\n",
        "cm.score(x_test, y_test)\n",
        "xgb = classification_report(y_test, pred_xgb)\n",
        "print(xgb)\n",
        "print(acc_xgb)\n",
        "conf_xgb = confusion_matrix(y_test,pred_xgb)\n",
        "conf_xgb"
      ]
    }
  ],
  "metadata": {
    "colab": {
      "provenance": []
    },
    "kernelspec": {
      "display_name": "Python 3",
      "language": "python",
      "name": "python3"
    },
    "language_info": {
      "codemirror_mode": {
        "name": "ipython",
        "version": 3
      },
      "file_extension": ".py",
      "mimetype": "text/x-python",
      "name": "python",
      "nbconvert_exporter": "python",
      "pygments_lexer": "ipython3",
      "version": "3.10.7"
    },
    "papermill": {
      "default_parameters": {},
      "duration": 22.378776,
      "end_time": "2023-01-25T08:53:58.244169",
      "environment_variables": {},
      "exception": null,
      "input_path": "__notebook__.ipynb",
      "output_path": "__notebook__.ipynb",
      "parameters": {},
      "start_time": "2023-01-25T08:53:35.865393",
      "version": "2.3.4"
    }
  },
  "nbformat": 4,
  "nbformat_minor": 5
}
