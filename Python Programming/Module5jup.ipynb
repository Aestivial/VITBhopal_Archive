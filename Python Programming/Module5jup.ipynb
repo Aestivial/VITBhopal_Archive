{
 "cells": [
  {
   "cell_type": "markdown",
   "id": "4522d440",
   "metadata": {},
   "source": [
    "# Module 5\n",
    "\n",
    "Graphical user interfaces, event-driven programming paradigm, tkinter module, creating simple GUI, buttons, labels, entry fields, dialogs, widget attributes - sizes, fonts, colors layouts, nested frames, Multithreading, Networks, and Client/Server Programming, introduction to HTML, interacting with remote \n",
    "HTML server, running html-based queries, downloading pages; \n",
    "CGI programming, programming a simple CGI form"
   ]
  },
  {
   "cell_type": "markdown",
   "id": "b726ff3c",
   "metadata": {},
   "source": [
    "# Graphical User Interface (GUI)\n",
    "\n",
    "\n",
    "Python has no native support for GUI programming, but several GUI libraries\n",
    "can be used by Python programs. The Tk library is available using the tkinter\n",
    "module, and is usually installed as standard. \n",
    "\n",
    "\n",
    "GUI programming is a bit different from writing console programs.\n",
    "\n",
    "\n",
    "*   Python console programs and module files always have a .py extension, but\n",
    "for Python GUI programs we use a .pyw extension (module files always use .py,\n",
    "though).\n",
    "\n",
    "\n",
    "*    On Windows, .pyw ensures that Windows uses the pythonw.exe interpreter instead of python.exe, and this in turn ensures that when we execute a Python GUI program, no unnecessary console window will appear."
   ]
  },
  {
   "cell_type": "markdown",
   "id": "ec0ea23b",
   "metadata": {},
   "source": [
    "# Brief inventory of GUI toolkits available to Python programmers \n",
    "<dl>\n",
    "<dt>tkinter \n",
    "<dd>An open source GUI library and the continuing de facto standard for portable GUI development in Python. Python scripts that use tkinter to build GUIs run portably on Windows, X Windows (Unix and Linux), and Macintosh OS X, and they display a native look-and-feel on each of these platforms today. \n",
    "<dt>wxPython\n",
    "<dd>A Python interface for the open source wxWidgets (formerly called wxWindows)\n",
    "library, which is a portable GUI class framework originally written to be used from the C++ programming language. \n",
    "<dt>PyQt\n",
    "<dd>A Python interface to the Qt toolkit (now from Nokia, formerly by Trolltech), and perhaps the third most widely used GUI toolkit for Python today. PyQt is a full featured GUI library and runs portably today on Windows, Mac OS X, and Unix and Linux.\n",
    "<dt>PyGTK\n",
    "<dd>A Python interface to GTK, a portable GUI library originally used as the core of the Gnome window system on Linux. The gnome-python and PyGTK extension\n",
    "packages export Gnome and GTK toolkit calls."
   ]
  },
  {
   "cell_type": "code",
   "execution_count": null,
   "id": "2d09359d",
   "metadata": {},
   "outputs": [],
   "source": [
    "import tkinter"
   ]
  },
  {
   "cell_type": "code",
   "execution_count": null,
   "id": "db097a53",
   "metadata": {},
   "outputs": [],
   "source": [
    "tkinter.TkVersion"
   ]
  },
  {
   "cell_type": "code",
   "execution_count": null,
   "id": "00087eb7",
   "metadata": {},
   "outputs": [],
   "source": [
    "from tkinter import Label # Loads a widget class from the tkinter module"
   ]
  },
  {
   "cell_type": "code",
   "execution_count": null,
   "id": "51d771a4",
   "metadata": {},
   "outputs": [],
   "source": [
    "from tkinter import Tk"
   ]
  },
  {
   "cell_type": "code",
   "execution_count": null,
   "id": "7bd30d8c",
   "metadata": {},
   "outputs": [],
   "source": [
    "root = Tk()\n",
    "Label(None, text='Hello GUI world!',bg='red',fg='white').pack(expand = Yes, fill ='both')\n",
    "root.mainloop()"
   ]
  },
  {
   "cell_type": "code",
   "execution_count": null,
   "id": "18f3d7c3",
   "metadata": {},
   "outputs": [],
   "source": [
    "widget = Label(None, text='Hello GUI world!') #  Makes an instance of the imported Label class\n",
    "widget.place(relx=.2, rely=.2) #  Packs (arranges) the new Label in its parent widget\n",
    "widget.mainloop() # Calls mainloop to bring up the window and start the tkinter event loop"
   ]
  },
  {
   "cell_type": "markdown",
   "id": "07b46664",
   "metadata": {},
   "source": [
    " In fact, the tkinter mainloop function is similar in spirit to the following pseudo-Python code:\n",
    "```\n",
    "def mainloop():\n",
    "    while the main window has not been closed:\n",
    "         if an event has occurred:\n",
    "             run the associated event handler function\n",
    "```"
   ]
  },
  {
   "cell_type": "markdown",
   "id": "5aa2b654",
   "metadata": {},
   "source": [
    "Because of this model, the mainloop call in above Example never returns to our script while the GUI is displayed on-screen.‡ \n",
    "<br>When we write larger scripts, the only way we can get anything done after calling mainloop is to register callback handlers to respond to events.\n",
    "<br>This is called event-driven programming, and it is perhaps one of the most unusual aspects of GUIs. GUI programs take the form of a set of event handlers that share saved information rather than of a single main control flow. "
   ]
  },
  {
   "cell_type": "code",
   "execution_count": null,
   "id": "85c40ff7",
   "metadata": {},
   "outputs": [],
   "source": [
    "from tkinter import *"
   ]
  },
  {
   "cell_type": "code",
   "execution_count": null,
   "id": "99f473c4",
   "metadata": {},
   "outputs": [],
   "source": [
    "root = Tk()\n",
    "Label(root, text='Hello GUI world!').pack(side=LEFT)\n",
    "root.mainloop()"
   ]
  },
  {
   "cell_type": "markdown",
   "id": "d4f7ca0d",
   "metadata": {},
   "source": [
    "# Widget Resizing Basics\n",
    "\n",
    "Top-level windows, such as the one built by all of the coding variants we have seen thus far, can normally be resized by the user; simply drag out the window with your mouse. \n",
    "<br>This isn’t very good—the label stays attached to the top of the parent window instead of staying in the middle on expansion—but it’s easy to improve on this with a pair of pack options, demonstrated as below.\n"
   ]
  },
  {
   "cell_type": "code",
   "execution_count": null,
   "id": "14071639",
   "metadata": {},
   "outputs": [],
   "source": [
    "from tkinter import *\n",
    "Label(text='Hello GUI world!').pack(expand=YES, fill=BOTH)\n",
    "mainloop()"
   ]
  },
  {
   "cell_type": "markdown",
   "id": "b068ed0b",
   "metadata": {},
   "source": [
    "The text option of the label is set after it is constructed, by assigning to the widget’s text key. \n",
    "<br>Widget objects overload (intercept) index operations such that options are also available as mapping keys, much like a dictionary."
   ]
  },
  {
   "cell_type": "code",
   "execution_count": null,
   "id": "e3ce159b",
   "metadata": {},
   "outputs": [],
   "source": [
    "from tkinter import *\n",
    "widget = Label()\n",
    "widget['text'] = 'Hello GUI world!'\n",
    "widget.pack(side=TOP)\n",
    "mainloop()"
   ]
  },
  {
   "cell_type": "markdown",
   "id": "f699653d",
   "metadata": {},
   "source": [
    "More commonly, widget options can be set after construction by calling the widget config method"
   ]
  },
  {
   "cell_type": "code",
   "execution_count": null,
   "id": "ee811416",
   "metadata": {},
   "outputs": [],
   "source": [
    "from tkinter import *\n",
    "root = Tk()\n",
    "widget = Label(root)\n",
    "widget.config(text='Hello GUI world!')\n",
    "widget.pack(side=TOP, expand=YES, fill=BOTH)\n",
    "root.title('gui1g.py')\n",
    "root.mainloop()\n"
   ]
  },
  {
   "cell_type": "markdown",
   "id": "59fbf120",
   "metadata": {},
   "source": [
    "# Adding Buttons and Callbacks\n",
    "\n",
    "Here, instead of making a label, we create an instance of the tkinter Button class. It’s attached to the default top level window as before on the default TOP packing side. But the main thing to notice here is the button’s configuration arguments: we set an option called command to the ```sys.exit``` function"
   ]
  },
  {
   "cell_type": "code",
   "execution_count": null,
   "id": "8c60249e",
   "metadata": {},
   "outputs": [],
   "source": [
    "import sys\n",
    "from tkinter import *\n",
    "root = Tk()\n",
    "widget = Button(root, text='Close Window', command=root.destroy) # command=sys.exit\n",
    "widget.pack(side=BOTTOM)\n",
    "root.mainloop()"
   ]
  },
  {
   "cell_type": "markdown",
   "id": "26547be0",
   "metadata": {},
   "source": [
    "Annother version that packs the button in place without assigning it to a name, attaches it to the LEFT side of its parent window explicitly, and specifies ```root.quit``` as the callback handler—a standard Tk object method that shuts down the GUI and so ends the program."
   ]
  },
  {
   "cell_type": "code",
   "execution_count": null,
   "id": "d8aaf805",
   "metadata": {},
   "outputs": [],
   "source": [
    "from tkinter import *\n",
    "root = Tk()\n",
    "Button(root, text='press', command=root.quit).pack(side=LEFT)\n",
    "root.mainloop()\n"
   ]
  },
  {
   "cell_type": "markdown",
   "id": "46f04ab0",
   "metadata": {},
   "source": [
    "If you want the button to be given all available space and to stretch to fill all of its\n",
    "assigned space horizontally, add expand=YES and fill=X keyword arguments to the\n",
    "pack call."
   ]
  },
  {
   "cell_type": "code",
   "execution_count": null,
   "id": "7082eef9",
   "metadata": {},
   "outputs": [],
   "source": [
    "from tkinter import *\n",
    "root = Tk()\n",
    "Button(root, text='press', command=root.quit).pack(side=LEFT,expand=YES, fill=X)\n",
    "root.mainloop()"
   ]
  },
  {
   "cell_type": "code",
   "execution_count": null,
   "id": "2a675d6a",
   "metadata": {},
   "outputs": [],
   "source": [
    "from tkinter import *\n",
    "root = Tk()\n",
    "Button(root, text='press', command=root.quit).pack(side=LEFT,expand=YES, fill=Y)\n",
    "root.mainloop()"
   ]
  },
  {
   "cell_type": "code",
   "execution_count": null,
   "id": "eefd6d85",
   "metadata": {},
   "outputs": [],
   "source": [
    "from tkinter import *\n",
    "root = Tk()\n",
    "Button(root, text='press', command=root.quit).pack(side=LEFT,expand=YES, fill=BOTH)\n",
    "root.mainloop()"
   ]
  },
  {
   "cell_type": "markdown",
   "id": "6fad29ad",
   "metadata": {},
   "source": [
    "# Adding User-Defined Callback Handlers\n",
    "The command option specifies a function\n",
    "we’ve defined locally. When the button is pressed, tkinter calls the quit function in this\n",
    "file to handle the event, passing it zero arguments."
   ]
  },
  {
   "cell_type": "code",
   "execution_count": null,
   "id": "35fa5fd1",
   "metadata": {},
   "outputs": [],
   "source": [
    "import sys\n",
    "from tkinter import *\n",
    "def quit(): # a custom callback handler\n",
    "    print('Hello, I must be going...') # kill windows and process\n",
    "    root.destroy()\n",
    " \n",
    "\n",
    "root =Tk()\n",
    "widget = Button(None, text='Hello event world', command=quit)\n",
    "widget.pack()\n",
    "widget.mainloop()"
   ]
  },
  {
   "cell_type": "code",
   "execution_count": null,
   "id": "87b67bb5",
   "metadata": {},
   "outputs": [],
   "source": [
    "import tkinter as tk\n",
    "root = tk.Tk()\n",
    "root.geometry(\"100x50\")\n",
    "\n",
    "def close_window():\n",
    "    root.destroy()\n",
    "\n",
    "button = tk.Button(text = \"Click and Quit\", command = close_window)\n",
    "button.pack()\n",
    "button.place(x = 20, y = 30)\n",
    "\n",
    "root.mainloop()"
   ]
  },
  {
   "cell_type": "code",
   "execution_count": null,
   "id": "b8fc035a",
   "metadata": {},
   "outputs": [],
   "source": [
    "#Import tkinter library\n",
    "from tkinter import *\n",
    "#Create an instance of Tkinter frame or window\n",
    "win= Tk()\n",
    "#Set the geometry of tkinter frame\n",
    "win.geometry(\"750x250\")\n",
    "def callback():\n",
    "    Label(win, text=\"Hello World!\", font=('Century 20 bold')).pack(pady=0)\n",
    "#Create a Label and a Button widget\n",
    "btn=Button(win, text=\"Press Enter\", command= callback)\n",
    "btn.pack(ipadx=10)\n",
    "win.bind('<Return>',lambda event:callback())\n",
    "win.mainloop()"
   ]
  },
  {
   "cell_type": "markdown",
   "id": "bb5195a1",
   "metadata": {},
   "source": [
    "# Configuring Widget Appearance\n",
    " tkinter widgets can be made to look arbitrarily different, though, using a handful of widget and packer options"
   ]
  },
  {
   "cell_type": "code",
   "execution_count": null,
   "id": "d44f3fa8",
   "metadata": {},
   "outputs": [],
   "source": [
    "from tkinter import *\n",
    "root = Tk()\n",
    "labelfont = ('times', 20, 'bold') # family, size, style\n",
    "widget = Label(root, text='Hello config world')\n",
    "widget.config(bg='black', fg='yellow') # yellow text on black label\n",
    "widget.config(font=labelfont) # use a larger font\n",
    "widget.config(height=3, width=30) # initial size: lines,chars\n",
    "widget.pack(expand=YES)\n",
    "root.mainloop()"
   ]
  },
  {
   "cell_type": "code",
   "execution_count": null,
   "id": "67d3d591",
   "metadata": {},
   "outputs": [],
   "source": [
    "from tkinter import *\n",
    "widget = Button(text='Spam', padx=10, pady=10) #Extra space can be added around many widgets with the padx= N and pady= N options.\n",
    "widget.pack(padx=20, pady=20)\n",
    "widget.config(cursor='gumby') # A cursor = { gumby,watch, pencil, cross, hand2} option can be given to change the \n",
    "                #appearance of the mouse pointer when it moves over the widget.\n",
    "widget.config(bd=8, relief=RAISED) #A bd= N widget option can be used to set border width, \n",
    "                 # and a relief= {FLAT, SUNKEN, RAISED, GROOVE, SOLID, RIDGE} option can specify a border style\n",
    "widget.config(bg='dark green', fg='white')\n",
    "widget.config(font=('helvetica', 20, 'underline italic'))\n",
    "mainloop()\n"
   ]
  },
  {
   "cell_type": "markdown",
   "id": "1fe2aedd",
   "metadata": {},
   "source": [
    "# Dialogs\n",
    "Dialogs are windows popped up by a script to provide or request additional information. They come in two flavors, modal and nonmodal:\n",
    "<dl>\n",
    "    <dt>Modal\n",
    "    <dd>These dialogs block the rest of the interface until the dialog window is dismissed;users must reply to the dialog before the program continues.\n",
    "    <dt>Nonmodal\n",
    "    <dd>These dialogs can remain on-screen indefinitely without interfering with other windows in the interface; they can usually accept inputs at any time.\n",
    "</dl>\n",
    "\n",
    "\n",
    "There are essentially three ways to present pop-up dialogs to users with tkinter—\n",
    "<li>by using common dialog calls, \n",
    "<li>by using the now-dated Dialog object, and \n",
    "<li>by creating custom dialog windows with Toplevels and other kinds of widgets."
   ]
  },
  {
   "cell_type": "markdown",
   "id": "b5e41045",
   "metadata": {},
   "source": [
    "### Standard (Common) Dialogs\n",
    "tkinter comes with a collection of precoded dialog windows that implement many of the most common pop ups programs generate—<li>file selection dialogs,<li>error and warning pop ups, and <li>question and answer prompts. \n",
    "\n",
    "<br>They are called standard dialogs (and sometimes common dialogs) because they are part of the tkinter library, and they use platform-specific library calls to look like they should on each platform. "
   ]
  },
  {
   "cell_type": "code",
   "execution_count": null,
   "id": "a29fae80",
   "metadata": {},
   "outputs": [],
   "source": [
    "from tkinter import *\n",
    "from tkinter.messagebox import *\n",
    "def callback():\n",
    " if askyesno('Verify', 'Do you really want to quit?'):\n",
    "     showwarning('Yes', 'Quit not yet implemented')\n",
    " else:\n",
    "     showinfo('No', 'Quit has been cancelled')\n",
    "errmsg = 'Sorry, no Spam allowed!'\n",
    "Button(text='Quit', command=callback).pack(fill=X)\n",
    "Button(text='Spam', command=(lambda: showerror('Spam', errmsg))).pack(fill=X)\n",
    "mainloop()\n"
   ]
  },
  {
   "cell_type": "markdown",
   "id": "5bbeaaf6",
   "metadata": {},
   "source": [
    "###  The Old-Style Dialog Module\n",
    "In older Python code, you may see dialogs occasionally coded with the standard tkinter dialog module. This is a bit dated now, and it uses an X Windows look-and-feel; but just in case you run across such code in your Python maintenance excursions"
   ]
  },
  {
   "cell_type": "code",
   "execution_count": null,
   "id": "ea60fb0e",
   "metadata": {},
   "outputs": [],
   "source": [
    "from tkinter import *\n",
    "from tkinter.dialog import Dialog\n",
    "class OldDialogDemo(Frame):\n",
    "    def __init__(self, master=None):\n",
    "        Frame.__init__(self, master)\n",
    "        Pack.config(self) # same as self.pack()\n",
    "        Button(self, text='Pop1', command=self.dialog1).pack()\n",
    "        Button(self, text='Pop2', command=self.dialog2).pack()\n",
    "    def dialog1(self):\n",
    "        ans = Dialog(self, title = 'Popup Fun!', text = 'An example of a popup-dialog box, using older \"Dialog.py\".',\n",
    "            bitmap = 'questhead', default = 0, strings = ('Yes', 'No', 'Cancel'))\n",
    "        if ans.num == 0: \n",
    "            self.dialog2()\n",
    "    def dialog2(self):\n",
    "        Dialog(self, title = 'HAL-9000', text = \"I'm afraid I can't let you do that, Dave...\", bitmap = 'hourglass',\n",
    "               default = 0, strings = ('spam', 'SPAM'))\n",
    "\n",
    "\n",
    "if __name__ == '__main__': OldDialogDemo().mainloop()"
   ]
  },
  {
   "cell_type": "markdown",
   "id": "33c44a6f",
   "metadata": {},
   "source": [
    "### Custom dialogs \n",
    "Custom dialogs support arbitrary interfaces, but they are also the most complicated to program. Even so, there’s not much to it—simply create a pop-up window as a Toplevel with attached widgets, and arrange a callback handler to fetch user inputs\n",
    "entered in the dialog (if any) and to destroy the window. To make such a custom dialog modal, we also need to wait for a reply by giving the window input focus, making other windows inactive, and waiting for an event"
   ]
  },
  {
   "cell_type": "code",
   "execution_count": null,
   "id": "561ebe2e",
   "metadata": {},
   "outputs": [],
   "source": [
    "import sys\n",
    "from tkinter import *\n",
    "makemodal = (len(sys.argv) > 1)\n",
    "def dialog():\n",
    "    win = Toplevel() # make a new window\n",
    "    Label(win, text='Hard drive reformatted!').pack() # add a few widgets\n",
    "    Button(win, text='OK', command=win.destroy).pack() # set destroy callback\n",
    "    if makemodal:\n",
    "        win.focus_set() # take over input focus,\n",
    "        win.grab_set() # disable other windows while I'm open,\n",
    "        win.wait_window() # and wait here until win destroyed\n",
    "        print('dialog exit') # else returns right away\n",
    "root = Tk()\n",
    "Button(root, text='popup', command=dialog).pack(fill='x')\n",
    "root.mainloop()"
   ]
  },
  {
   "cell_type": "markdown",
   "id": "ca243cdf",
   "metadata": {},
   "source": [
    "# Binding Events\n",
    "Bind is commonly used in conjunction with other widgets (e.g., to catch return key presses for input boxes)"
   ]
  },
  {
   "cell_type": "code",
   "execution_count": null,
   "id": "f5cb4640",
   "metadata": {},
   "outputs": [],
   "source": [
    "from tkinter import *\n",
    "def showPosEvent(event):\n",
    "    print('Widget=%s X=%s Y=%s' % (event.widget, event.x, event.y))\n",
    "\n",
    "def showAllEvent(event):\n",
    "    print(event)\n",
    "    for attr in dir(event):\n",
    "        if not attr.startswith('__'):\n",
    "            print(attr, '=>', getattr(event, attr))\n",
    "\n",
    "def onKeyPress(event):\n",
    "    print('Got key press:', event.char)\n",
    "    \n",
    "def onArrowKey(event):\n",
    "    print('Got up arrow key press')\n",
    "    \n",
    "def onReturnKey(event):\n",
    "    print('Got return key press')\n",
    "    \n",
    "def onLeftClick(event):\n",
    "    print('Got left mouse button click:', end=' ')\n",
    "    showPosEvent(event)\n",
    "    \n",
    "def onRightClick(event):\n",
    "    print('Got right mouse button click:', end=' ')\n",
    "    showPosEvent(event)\n",
    "    \n",
    "def onMiddleClick(event):\n",
    "    print('Got middle mouse button click:', end=' ')\n",
    "    showPosEvent(event)\n",
    "    showAllEvent(event)\n",
    "    \n",
    "def onLeftDrag(event):\n",
    "    print('Got left mouse button drag:', end=' ')\n",
    "    showPosEvent(event)\n",
    "    \n",
    "def onDoubleLeftClick(event):\n",
    "    print('Got double left mouse click', end=' ')\n",
    "    showPosEvent(event)\n",
    "    tkroot.destroy()\n",
    "\n",
    "tkroot = Tk()\n",
    "labelfont = ('courier', 20, 'bold') # family, size, style\n",
    "widget = Label(tkroot, text='Hello bind world')\n",
    "widget.config(bg='red', font=labelfont) # red background, large font\n",
    "widget.config(height=5, width=20) # initial size: lines,chars\n",
    "widget.pack(expand=YES, fill=BOTH)\n",
    "\n",
    "widget.bind('<Button-1>', onLeftClick) # mouse button clicks\n",
    "widget.bind('<Button-3>', onRightClick)\n",
    "widget.bind('<Button-2>', onMiddleClick) # middle=both on some mice\n",
    "widget.bind('<Double-1>', onDoubleLeftClick) # click left twice\n",
    "widget.bind('<B1-Motion>', onLeftDrag) # click left and move\n",
    "\n",
    "widget.bind('<KeyPress>', onKeyPress) # all keyboard presses\n",
    "widget.bind('<Up>', onArrowKey) # arrow button pressed\n",
    "widget.bind('<Return>', onReturnKey) # return/enter key pressed\n",
    "widget.focus() # or bind keypress to tkroot\n",
    "tkroot.title('Click Me')\n",
    "tkroot.mainloop()\n"
   ]
  },
  {
   "cell_type": "markdown",
   "id": "6f65b182",
   "metadata": {},
   "source": [
    "# Message\n",
    "The Message widget is simply a place to display text. Although the standard showinfo dialog we met earlier is perhaps a better way to display pop-up messages, Message splits up long strings automatically and flexibly and can be embedded inside container widgets any time you need to add some read-only text to a display. "
   ]
  },
  {
   "cell_type": "code",
   "execution_count": null,
   "id": "43e85ca8",
   "metadata": {},
   "outputs": [],
   "source": [
    "from tkinter import *\n",
    "msg = Message(text=\"Oh by the way, which one's Pink?\")\n",
    "msg.config(bg='pink', font=('times', 16, 'italic'))\n",
    "msg.pack(fill=X, expand=YES)\n",
    "mainloop()"
   ]
  },
  {
   "cell_type": "markdown",
   "id": "e77cb985",
   "metadata": {},
   "source": [
    "# Entry\n",
    "The Entry widget is a simple, single-line text input field. It is typically used for input\n",
    "fields in form-like dialogs and anywhere else you need the user to type a value into a\n",
    "field of a larger display. Entry also supports advanced concepts such as scrolling, key\n",
    "bindings for editing, and text selections, but it’s simple to use in practice"
   ]
  },
  {
   "cell_type": "code",
   "execution_count": null,
   "id": "68f7127c",
   "metadata": {},
   "outputs": [],
   "source": [
    "%%writefile quitter.py\n",
    "\"\"\"\n",
    "a Quit button that verifies exit requests;\n",
    "to reuse, attach an instance to other GUIs, and re-pack as desired\n",
    "\"\"\"\n",
    "from tkinter import * # get widget classes\n",
    "from tkinter.messagebox import askokcancel # get canned std dialog\n",
    "class Quitter(Frame): # subclass our GUI\n",
    "    def __init__(self, parent=None): # constructor method\n",
    "        Frame.__init__(self, parent)\n",
    "        self.pack()\n",
    "        widget = Button(self, text='Quit', command=self.quit)\n",
    "        widget.pack(side=LEFT, expand=YES, fill=BOTH)\n",
    "        \n",
    "    def quit(self):\n",
    "        ans = askokcancel('Verify exit', \"Really quit?\")\n",
    "        if ans: Frame.destroy(self)\n",
    "            \n",
    "            \n",
    "if __name__ == '__main__': Quitter().mainloop()\n",
    "\n"
   ]
  },
  {
   "cell_type": "code",
   "execution_count": null,
   "id": "17ff3985",
   "metadata": {},
   "outputs": [],
   "source": [
    "from tkinter import *\n",
    "from quitter import Quitter\n",
    "root = Tk()\n",
    "Quitter(root).pack(side=RIGHT)\n",
    "root.mainloop()"
   ]
  },
  {
   "cell_type": "code",
   "execution_count": null,
   "id": "10d0c862",
   "metadata": {},
   "outputs": [],
   "source": [
    "from tkinter import *\n",
    "from quitter import Quitter\n",
    "def fetch():\n",
    "    print('Input => \"%s\"' % ent.get()) # get text\n",
    "    \n",
    "    \n",
    "root = Tk()\n",
    "ent = Entry(root)\n",
    "ent.insert(0, 'Type words here') # set text\n",
    "ent.pack(side=TOP, fill=X) # grow horiz\n",
    "ent.focus() # save a click\n",
    "ent.bind('<Return>', (lambda event: fetch())) # on enter key\n",
    "btn = Button(root, text='Fetch', command=fetch) # and on button\n",
    "btn.pack(side=LEFT)\n",
    "Quitter(root).pack(side=RIGHT)\n",
    "root.mainloop()\n"
   ]
  },
  {
   "cell_type": "markdown",
   "id": "6458d1c3",
   "metadata": {},
   "source": [
    "## Checkbuttons\n",
    "The Checkbutton and Radiobutton widgets are designed to be associated with tkinter variables: clicking the button changes the value of the variable, and setting the variable changes the state of the button to which it is linked. In fact, tkinter variables are central to the operation of these widgets:\n",
    "<li> A collection of Checkbuttons implements a multiple-choice interface by assigning each button a variable of its own.\n",
    "<li> A collection of Radiobuttons imposes a mutually exclusive single-choice model by giving each button a unique value and the same tkinter variable."
   ]
  },
  {
   "cell_type": "code",
   "execution_count": null,
   "id": "433247bd",
   "metadata": {},
   "outputs": [],
   "source": [
    "from tkinter import *\n",
    "from tkinter import messagebox\n",
    "import tkinter\n",
    "\n",
    "top = tkinter.Tk()\n",
    "CheckVar1 = IntVar()\n",
    "CheckVar2 = IntVar()\n",
    "C1 = Checkbutton(top, text = \"Music\", variable = CheckVar1, \\\n",
    "                 onvalue = 1, offvalue = 0, height=5, \\\n",
    "                 width = 20)\n",
    "C2 = Checkbutton(top, text = \"Video\", variable = CheckVar2, \\\n",
    "                 onvalue = 1, offvalue = 0, height=5, \\\n",
    "                 width = 20)\n",
    "C1.pack()\n",
    "C2.pack()\n",
    "\n",
    "top.mainloop()\n",
    "print(CheckVar1.get())\n",
    "print(CheckVar2.get())"
   ]
  },
  {
   "cell_type": "code",
   "execution_count": null,
   "id": "d8639c7a",
   "metadata": {},
   "outputs": [],
   "source": [
    "# check buttons, the hard way (without variables)\n",
    "from tkinter import *\n",
    "states = [] # change object not name\n",
    "def onPress(i): # keep track of states\n",
    "    states[i] = not states[i] # changes False->True, True->False\n",
    "\n",
    "root = Tk()\n",
    "for i in range(10):\n",
    "    chk = Checkbutton(root, text=str(i), command=(lambda i=i: onPress(i)) )\n",
    "    chk.pack(side=LEFT)\n",
    "    states.append(False)\n",
    "root.mainloop()\n",
    "print(states) # show all states on exit"
   ]
  },
  {
   "cell_type": "code",
   "execution_count": null,
   "id": "6a513944",
   "metadata": {},
   "outputs": [],
   "source": [
    "%%writefile dialogTable.py\n",
    "# define a name:callback demos table\n",
    "from tkinter.filedialog import askopenfilename # get standard dialogs\n",
    "from tkinter.colorchooser import askcolor # they live in Lib\\tkinter\n",
    "from tkinter.messagebox import askquestion, showerror\n",
    "from tkinter.simpledialog import askfloat\n",
    "demos = {\n",
    " 'Open': askopenfilename,\n",
    " 'Color': askcolor,\n",
    " 'Query': lambda: askquestion('Warning', 'You typed \"rm *\"\\nConfirm?'),\n",
    " 'Error': lambda: showerror('Error!', \"He's dead, Jim\"),\n",
    " 'Input': lambda: askfloat('Entry', 'Enter credit card number')\n",
    "}"
   ]
  },
  {
   "cell_type": "code",
   "execution_count": null,
   "id": "882fdcea",
   "metadata": {},
   "outputs": [],
   "source": [
    "\"create a bar of check buttons that run dialog demos\"\n",
    "from tkinter import * # get base widget set\n",
    "from dialogTable import demos # get canned dialogs\n",
    "from quitter import Quitter # attach a quitter object to \"me\"\n",
    "class Demo(Frame): \n",
    "    def __init__(self, parent=None, **options):\n",
    "        Frame.__init__(self, parent, **options)\n",
    "        self.pack()\n",
    "        self.tools()\n",
    "        Label(self, text=\"Check demos\").pack()\n",
    "        self.vars = []\n",
    "        for key in demos:\n",
    "            var = IntVar()\n",
    "            Checkbutton(self, text=key, variable=var, command=demos[key]).pack(side=LEFT)\n",
    "            self.vars.append(var)\n",
    "            \n",
    "    def report(self):\n",
    "        for var in self.vars:\n",
    "            print(var.get(), end=' ') # current toggle settings: 1 or 0\n",
    "            print()\n",
    "    def tools(self):\n",
    "        frm = Frame(self)\n",
    "        frm.pack(side=RIGHT)\n",
    "        Button(frm, text='State', command=self.report).pack(fill=X)\n",
    "        Quitter(frm).pack(fill=X)\n",
    "        \n",
    "if __name__ == '__main__': Demo().mainloop()\n"
   ]
  },
  {
   "cell_type": "markdown",
   "id": "daa6fa74",
   "metadata": {},
   "source": [
    "## Radio Buttons\n",
    "Radio buttons are toggles too, but they are generally used in groups: just like the mechanical station selector pushbuttons on radios of times gone by, pressing one Radio button widget in a group automatically deselects the one pressed last. In other words, at most, only one can be selected at one time. "
   ]
  },
  {
   "cell_type": "code",
   "execution_count": null,
   "id": "63bd4243",
   "metadata": {},
   "outputs": [],
   "source": [
    "# see what happens when some buttons have same value\n",
    "from tkinter import *\n",
    "root = Tk()\n",
    "var = StringVar()\n",
    "for i in range(10):\n",
    "    rad = Radiobutton(root, text=str(i), variable=var, value=str(i % 3))\n",
    "    rad.pack(side=LEFT)\n",
    "    var.set(' ') # deselect all initially\n",
    "root.mainloop()"
   ]
  },
  {
   "cell_type": "code",
   "execution_count": null,
   "id": "33e3df05",
   "metadata": {},
   "outputs": [],
   "source": [
    "# radio buttons, the easy way\n",
    "from tkinter import *\n",
    "root = Tk() # IntVars work too\n",
    "var = IntVar() # select 0 to start\n",
    "for i in range(10):\n",
    "    rad = Radiobutton(root, text=str(i), value=i, variable=var)\n",
    "    rad.pack(side=LEFT)\n",
    "root.mainloop()\n",
    "print(var.get()) # show state on exit"
   ]
  },
  {
   "cell_type": "markdown",
   "id": "4bbb0e7c",
   "metadata": {},
   "source": [
    "## Scales (Sliders)\n",
    "Scales (sometimes called “sliders”) are used to select among a range of numeric values.\n",
    "Moving the scale’s position with mouse drags or clicks moves the widget’s value among\n",
    "a range of integers and triggers Python callbacks if registered.\n"
   ]
  },
  {
   "cell_type": "code",
   "execution_count": null,
   "id": "b5a80788",
   "metadata": {},
   "outputs": [],
   "source": [
    "from tkinter import *\n",
    "root = Tk()\n",
    "scl = Scale(root, from_=-100, to=100, tickinterval=50, resolution=10)\n",
    "scl.pack(expand=YES, fill=Y)\n",
    "def report():\n",
    "    print(scl.get())\n",
    "Button(root, text='state', command=report).pack(side=RIGHT)\n",
    "root.mainloop()\n"
   ]
  },
  {
   "cell_type": "code",
   "execution_count": null,
   "id": "484ac8bf",
   "metadata": {},
   "outputs": [],
   "source": [
    "# Design a simple calculator using Tkinter"
   ]
  },
  {
   "cell_type": "code",
   "execution_count": null,
   "id": "44cb73c7",
   "metadata": {},
   "outputs": [],
   "source": []
  },
  {
   "cell_type": "code",
   "execution_count": null,
   "id": "a69b8c1b",
   "metadata": {},
   "outputs": [],
   "source": []
  },
  {
   "cell_type": "markdown",
   "id": "ef628b00",
   "metadata": {},
   "source": [
    "# Top-Level Windows\n",
    "Each Toplevel object created produces a new window on the display and automatically\n",
    "adds it to the program’s GUI event-loop processing stream (you don’t need to call the\n",
    "mainloop method of new windows to activate them). "
   ]
  },
  {
   "cell_type": "code",
   "execution_count": null,
   "id": "5664d203",
   "metadata": {},
   "outputs": [],
   "source": [
    "import sys\n",
    "from tkinter import Toplevel, Button, Label\n",
    "win1 = Toplevel() # two independent windows\n",
    "win2 = Toplevel() # but part of same process\n",
    "Button(win1, text='Spam', command=sys.exit).pack()\n",
    "Button(win2, text='SPAM', command=sys.exit).pack()\n",
    "Label(text='Popups').pack() # on default Tk() root window\n",
    "win1.mainloop()"
   ]
  },
  {
   "cell_type": "markdown",
   "id": "4de6102c",
   "metadata": {},
   "source": [
    "# Menus\n",
    "Menus are the pull-down lists you’re accustomed to seeing at the top of a window (or \n",
    "the entire display, if you’re accustomed to seeing them that way on a Macintosh). Move \n",
    "the mouse cursor to the menu bar at the top and click on a name (e.g., File), and a list \n",
    "of selectable options pops up under the name you clicked (e.g., Open, Save). "
   ]
  },
  {
   "cell_type": "markdown",
   "id": "dc8a4e06",
   "metadata": {},
   "source": [
    "It works like this:\n",
    "1. Create a topmost Menu as the child of the window widget and configure the window’s menu attribute to be the new Menu.\n",
    "2. For each pull-down object, make a new Menu as the child of the topmost Menu and \n",
    "add the child as a cascade of the topmost Menu using add_cascade.\n",
    "3. Add menu selections to each pull-down Menu from step 2, using the command options \n",
    "of add_command to register selection callback handlers.\n",
    "4. Add a cascading submenu by making a new Menu as the child of the Menu the cascade \n",
    "extends and using add_cascade to link the parent to the child."
   ]
  },
  {
   "cell_type": "code",
   "execution_count": null,
   "id": "7039761f",
   "metadata": {},
   "outputs": [],
   "source": [
    "from tkinter import * # get widget classes\n",
    "from tkinter.messagebox import * # get standard dialogs\n",
    "def notdone():\n",
    " showerror('Not implemented', 'Not yet available')\n",
    "def makemenu(win):\n",
    " top = Menu(win) # win=top-level window\n",
    " win.config(menu=top) # set its menu option\n",
    " file = Menu(top)\n",
    " file.add_command(label='New...', command=notdone, underline=0)\n",
    " file.add_command(label='Open...', command=notdone, underline=0)\n",
    " file.add_command(label='Quit', command=win.quit, underline=0)\n",
    " top.add_cascade(label='File', menu=file, underline=0)\n",
    " edit = Menu(top, tearoff=False)\n",
    " edit.add_command(label='Cut', command=notdone, underline=0)\n",
    " edit.add_command(label='Paste', command=notdone, underline=0)\n",
    " edit.add_separator()\n",
    " top.add_cascade(label='Edit', menu=edit, underline=0)\n",
    " submenu = Menu(edit, tearoff=True)\n",
    " submenu.add_command(label='Spam', command=win.quit, underline=0)\n",
    " submenu.add_command(label='Eggs', command=notdone, underline=0)\n",
    " edit.add_cascade(label='Stuff', menu=submenu, underline=0)\n",
    "if __name__ == '__main__':\n",
    "    # is used to execute some code only if the file was run directly, and not imported\n",
    " root = Tk() # or Toplevel()\n",
    " root.title('menu_win') # set window-mgr info\n",
    " makemenu(root) # associate a menu bar\n",
    " msg = Label(root, text='Window menu basics') # add something below\n",
    " msg.pack(expand=YES, fill=BOTH)\n",
    " msg.config(relief=SUNKEN, width=40, height=7, bg='beige')\n",
    " root.mainloop()"
   ]
  },
  {
   "cell_type": "code",
   "execution_count": null,
   "id": "a93f7a7b",
   "metadata": {},
   "outputs": [],
   "source": []
  },
  {
   "cell_type": "code",
   "execution_count": null,
   "id": "eb5bb4e0",
   "metadata": {},
   "outputs": [],
   "source": []
  },
  {
   "cell_type": "code",
   "execution_count": null,
   "id": "bd4921fa",
   "metadata": {},
   "outputs": [],
   "source": []
  },
  {
   "cell_type": "code",
   "execution_count": null,
   "id": "4f750d13",
   "metadata": {},
   "outputs": [],
   "source": []
  },
  {
   "cell_type": "code",
   "execution_count": null,
   "id": "4c3363fd",
   "metadata": {},
   "outputs": [],
   "source": []
  },
  {
   "cell_type": "code",
   "execution_count": null,
   "id": "958adc03",
   "metadata": {},
   "outputs": [],
   "source": []
  },
  {
   "cell_type": "code",
   "execution_count": null,
   "id": "014333ea",
   "metadata": {},
   "outputs": [],
   "source": []
  },
  {
   "cell_type": "code",
   "execution_count": null,
   "id": "7803721e",
   "metadata": {},
   "outputs": [],
   "source": []
  },
  {
   "cell_type": "code",
   "execution_count": null,
   "id": "ea996215",
   "metadata": {},
   "outputs": [],
   "source": []
  },
  {
   "cell_type": "code",
   "execution_count": null,
   "id": "a97e26df",
   "metadata": {},
   "outputs": [],
   "source": []
  },
  {
   "cell_type": "markdown",
   "id": "e4b2c046",
   "metadata": {},
   "source": [
    "# Multithreading \n",
    "Improving and making code faster is the next step after the basic knowledge of Python is acquired. Multithreading is one such way to achieve that optimization using “Threads”. \n",
    "\n",
    "\n",
    "##### https://www.upgrad.com/blog/multithreading-in-python/"
   ]
  },
  {
   "cell_type": "markdown",
   "id": "062f4616",
   "metadata": {},
   "source": [
    "### Threads in Python\n",
    "When we think multitasking, we think parallel execution. Multithreading not strictly parallel execution. Threads can be thought of as separate entities of execution flow of different parts of your program running independently. So essentially, threads do not execute in parallel, but Python switches from one thread to another so fast that it seems they are parallel.\n",
    "\n",
    "Processes on the other hand are strictly parallel and run on different cores to achieve execution faster. Threads can also be run on different processors, but they still won’t be running in parallel technically.\n",
    "\n",
    "<b> Multithreading don’t always make processing faster. Multithreading is specifically used in tasks where threads will make processing faster.</b>\n",
    "\n",
    "All the information of a thread is contained in the Thread Control Block(TCB). TCB consists of the following main parts:\n",
    "\n",
    "<li>A unique TID – Thread Identifier</li>\n",
    "<li>Stack Pointer which points to thread’s stack in the process </li>\n",
    "<li>A Program counter which stores the address of the instruction currently being executed by the thread</li>\n",
    "<li>State of the Thread (running, ready, waiting, start or done)</li>\n",
    "\n",
    "Having said that, processes can contain multiple threads in it which share the code, data and all the files. And all the threads have their own separate register and stack which they have access to.\n",
    "\n",
    "Now you might wonder, if the threads use the common data and code, how can they all use it without hampering other threads. This is the biggest limitation of Multithreading.\n",
    "\n",
    "<b>Context Switching</b>\n",
    "\n",
    "Now as described above, threads don’t run parallely, but consequently. So when one thread T1 starts execution, all other threads remain in waiting mode. Only after T1 is done with its execution can any other queued thread begin to execute. Python switches from one thread to another so fast that it seems like parallel execution. This switching is what we call ‘Context Switching’."
   ]
  },
  {
   "cell_type": "code",
   "execution_count": null,
   "id": "b0343110",
   "metadata": {},
   "outputs": [],
   "source": [
    "import threading\n",
    "\n",
    "def cuber(n):\n",
    "    print(\"Cube: {}\".format(n * n * n))\n",
    "\n",
    "def squarer(n):\n",
    "    print(\"Square: {}\".format(n * n))\n",
    "\n",
    "if __name__ == \"__main__\":\n",
    "    # create the thread\n",
    "    t1 = threading.Thread(target=squarer, args=(5,))\n",
    "    t2 = threading.Thread(target=cuber, args=(5,))\n",
    "\n",
    "    # start the thread t1\n",
    "    t1.start()\n",
    "    # start the thread t2\n",
    "    t2.start()\n",
    "\n",
    "    # wait until t1 is completed\n",
    "    t1.join()\n",
    "    # wait until t2 is completed\n",
    "    t2.join()\n",
    "\n",
    "    # both threads completed\n",
    "    print(\"Done!\") "
   ]
  },
  {
   "cell_type": "markdown",
   "id": "d0999e6b",
   "metadata": {},
   "source": [
    "### Thread Synchronization\n",
    "\n",
    "As we discussed above, threads do not execute in parallel, instead Python switches from one to another. So, there is a very critical need of correct synchronization between the threads to avoid any weird behavior. \n",
    "\n",
    "### Race Condition\n",
    "\n",
    "Threads which are under the same process use common data and files which can lead to a “Race” for the data between multiple threads. Therefore, if a piece of data is accessed by multiple threads, it will be modified by both the threads and the results we’ll get won’t be as expected. This is called a Race Condition.\n",
    "\n",
    "The aim of Thread Synchronization is to make sure this Race Condition never comes and the critical section of code is accessed by threads one at a time in a synchronized way.\n",
    "\n",
    "### Locks\n",
    "\n",
    "To solve and prevent the Race Condition and its consequences, the thread module offers a Lock class which uses Semaphores to help threads synchronise. Semaphores are nothing but binary flags. \n",
    "\n",
    "The Lock class has two primary methods:\n",
    "\n",
    "<li><b>acquire([blocking]):</b> The acquire method takes in the parameter blocking as either True or False. If a lock for a thread T1 was initiated with blocking as True, it will wait or remain blocked until the critical section of code is locked by another thread T2. Once the other thread T2 releases the lock, thread T1 acquires the lock and returns True.</li>\n",
    "<li><b>release():</b> When the release method is called on the lock, it will unlock the lock and return True. Also, it will check if any threads are waiting for lock to be released. If there are, then it will allow exactly one of them to access the lock.</li>"
   ]
  },
  {
   "cell_type": "code",
   "execution_count": null,
   "id": "60c12ef6",
   "metadata": {},
   "outputs": [],
   "source": [
    "import threading\n",
    "import time\n",
    "import logging\n",
    "import random\n",
    "\n",
    "logging.basicConfig(level=logging.DEBUG, format='(%(threadName)-9s) %(message)s',)\n",
    "                    \n",
    "class Counter(object):\n",
    "    def __init__(self, start = 0):\n",
    "        self.lock = threading.Lock()\n",
    "        self.value = start\n",
    "    def increment(self):\n",
    "        logging.debug('Waiting for a lock')\n",
    "        self.lock.acquire()\n",
    "        try:\n",
    "            logging.debug('Acquired a lock')\n",
    "            self.value = self.value + 1\n",
    "        finally:\n",
    "            logging.debug('Released a lock')\n",
    "            self.lock.release()\n",
    "\n",
    "def worker(c):\n",
    "    for i in range(2):\n",
    "        r = random.random()\n",
    "        logging.debug('Sleeping %0.02f', r)\n",
    "        time.sleep(r)\n",
    "        c.increment()\n",
    "    logging.debug('Done')\n",
    "\n",
    "if __name__ == '__main__':\n",
    "    counter = Counter()\n",
    "    for i in range(2):\n",
    "        t = threading.Thread(target=worker, args=(counter,))\n",
    "        t.start()\n",
    "\n",
    "    logging.debug('Waiting for worker threads')\n",
    "    main_thread = threading.currentThread()\n",
    "    for t in threading.enumerate():\n",
    "        if t is not main_thread:\n",
    "            t.join()\n",
    "    logging.debug('Counter: %d', counter.value)"
   ]
  },
  {
   "cell_type": "markdown",
   "id": "c71837ea",
   "metadata": {},
   "source": [
    "### Deadlocks\n",
    "\n",
    "Another issue which arises when we deal with multiple locks is – Deadlocks. Deadlocks occur when locks are not released by threads due to various reasons."
   ]
  },
  {
   "cell_type": "code",
   "execution_count": null,
   "id": "31b416eb",
   "metadata": {},
   "outputs": [],
   "source": [
    "import threading\n",
    "\n",
    "l = threading.Lock()\n",
    "# Before the 1st acquire\n",
    "l.acquire()\n",
    "# Before the 2nd acquire\n",
    "l.acquire()\n",
    "# Now acquired the lock twice"
   ]
  },
  {
   "cell_type": "markdown",
   "id": "3c3982cd",
   "metadata": {},
   "source": [
    "In the above code, we call the acquire method twice but don’t release it after it is acquired for the first time. Hence, when Python sees the second acquire statement, it will go into the wait mode indefinitely as we never released the previous lock."
   ]
  },
  {
   "cell_type": "markdown",
   "id": "6fea4d13",
   "metadata": {},
   "source": [
    "# Networking\n",
    "Networking allows computer programs to communicate with each other, even if they are running on different machines. \n",
    "<br>For programs such as web browsers, networking is the essence of what they do, whereas for others networking adds additional dimensions to their functionality, for example, remote operation or logging, or the ability to retrieve or supply data to other machines. \n",
    "<br>Most networking programs work on  \n",
    "<li>either a peer-to-peer basis (the same program runs on different machines), or \n",
    "<li>more commonly, a client/server basis (client programs send requests to a server)"
   ]
  },
  {
   "cell_type": "markdown",
   "id": "216db4e2",
   "metadata": {},
   "source": [
    "https://www.youtube.com/watch?v=3QiPPX-KeSc"
   ]
  },
  {
   "cell_type": "markdown",
   "id": "467a7ae8",
   "metadata": {},
   "source": [
    "# The Socket Layer\n",
    "In simple terms, sockets are a programmable interface to connections between programs, possibly running on different computers of a network. They allow data formatted as byte strings to be passed between processes and machines. \n",
    "<br>Sockets also form the basis and low-level “plumbing” of the Internet itself: all of the familiar higher-level Net protocols, like FTP, web pages, and email, ultimately occur over sockets. \n",
    "<br>Sockets are also sometimes called communications endpoints because they are the portals through which programs send and receive bytes during a conversation.\n",
    "\n",
    "## Machine identifiers\n",
    "Internet defines standard ways to name both a remote machine and a service provided by that machine. Within a script, the computer program to be contacted through a socket is identified by supplying a pair of values—the machine name and a specific port number on that machine\n",
    "\n",
    "### 1. Machine names\n",
    "A machine name may take the form of either a string of numbers separated by dots, called an IP address (e.g., **166.93.218.100**), or a more legible form known as a domain name (e.g., starship.python.net).\n",
    "\n",
    "### 2. Port numbers\n",
    "A port number is an agreed-upon numeric identifier for a given conversation. Because computers on the Net support a variety of services, port numbers are used to name a particular conversation on a given machine.\n"
   ]
  },
  {
   "cell_type": "markdown",
   "id": "241a3bb6",
   "metadata": {},
   "source": [
    "# The Protocol Layer\n",
    "Although sockets form the backbone of the Internet, much of the activity that happens on the Net is programmed with protocols, which are higher-level message models that run on top of sockets.\n",
    "\n",
    "The Internet Protocol standardize both message formats and socket port numbers:\n",
    "\n",
    "<br>• Message formats provide structure for the bytes exchanged over sockets during conversations.\n",
    "<br>• Port numbers are reserved numeric identifiers for the underlying sockets over which messages are exchanged.\n"
   ]
  },
  {
   "cell_type": "markdown",
   "id": "7d6714f3",
   "metadata": {},
   "source": [
    "### Port numbers reserved for common protocols\n",
    "\n",
    "<table>\n",
    "    <tr>\n",
    "        <th>Protocol \n",
    "        <th>Common function                 \n",
    "        <th>Port number \n",
    "        <th>Python module\n",
    "    </tr>       \n",
    "       \n",
    "<tr><td>HTTP \n",
    "    <td>Web pages \n",
    "     <td>80 \n",
    "         <td>http.client, http.server</tr>\n",
    "<tr>\n",
    "    <td>NNTP \n",
    "        <td>Usenet news \n",
    "            <td>119 \n",
    "                <td>nntplib</tr>\n",
    "<tr><td>FTP data default \n",
    "    <td>File transfers \n",
    "        <td>20 \n",
    "            <td>ftplib</tr>\n",
    "<tr><td>FTP control\n",
    "    <td>File transfers \n",
    "        <td>21 \n",
    "            <td>ftplib</tr>\n",
    "<tr><td>SMTP \n",
    "    <td>Sending email \n",
    "        <td>25 \n",
    "            <td>smtplib</tr>\n",
    "<tr><td>POP3 \n",
    "    <td>Fetching email \n",
    "        <td>110 \n",
    "            <td>poplib</tr>\n",
    "<tr><td>IMAP4 \n",
    "    <td>Fetching email \n",
    "        <td>143 \n",
    "            <td>imaplib</tr>\n",
    "<tr><td>Finger \n",
    "    <td>Informational \n",
    "        <td>79 \n",
    "            <td>n/a</tr>\n",
    "<tr><td>SSH \n",
    "    <td>Command lines \n",
    "        <td>22 \n",
    "            <td>n/a: third party</tr>\n",
    "<tr><td>Telnet \n",
    "    <td>Command lines \n",
    "        <td>23 \n",
    "            <td>telnetlib</tr>\n",
    "    </table>"
   ]
  },
  {
   "cell_type": "markdown",
   "id": "283da9dd",
   "metadata": {},
   "source": [
    "### Clients and servers\n",
    "By defining standard port numbers for services, the Net naturally gives rise to a client/ server architecture. \n",
    "<li>On one side of a conversation, machines that support standard protocols perpetually run a set of programs that listen for connection requests on the reserved ports. \n",
    "<li>On the other end of a dialog, other machines contact those programs\n",
    "to use the services they export.</li>\n",
    "\n",
    "#### Server\n",
    "A machine that hosts websites usually runs a web server program that constantly listens for incoming connection requests, on a socket bound to port 80. Often, the server itself does nothing but watch for requests on its port perpetually; handling\n",
    "requests is delegated to spawned processes or threads.\n",
    "\n",
    "#### Clients\n",
    "Programs that wish to talk to this server specify the server machine’s name and port 80 to initiate a connection. For web servers, typical clients are web browsers like Firefox, Internet Explorer, or Chrome, but any script can open a client-side\n",
    "connection on port 80 to fetch web pages from the server. The server’s machine name can also be simply “localhost” if it’s the same as the client’s.\n",
    "\n",
    "\n"
   ]
  },
  {
   "cell_type": "markdown",
   "id": "99ce05c6",
   "metadata": {},
   "source": [
    "Mark Lutz  - Programming Python-O'Reilly (2011)<br>\n",
    "https://docs.oracle.com/cd/E19620-01/805-4041/6j3r8iu2g/index.html"
   ]
  },
  {
   "cell_type": "markdown",
   "id": "c0144d60",
   "metadata": {},
   "source": [
    "### Server and Client code"
   ]
  },
  {
   "cell_type": "code",
   "execution_count": null,
   "id": "eb9f0da4",
   "metadata": {},
   "outputs": [],
   "source": [
    "%%writefile echo-server.py\n",
    "# \\Sockets\\echo-server.py\n",
    "\"\"\"\n",
    "Server side: open a TCP/IP socket on a port, listen for a message from\n",
    "a client, and send an echo reply; this is a simple one-shot listen/reply\n",
    "conversation per client, but it goes into an infinite loop to listen for\n",
    "more clients as long as this server script runs; the client may run on\n",
    "a remote machine, or on same computer if it uses 'localhost' for server\n",
    "\"\"\"\n",
    "from socket import * # get socket constructor and constants\n",
    "myHost = '' # '' = all available interfaces on host\n",
    "myPort = 50008 # listen on a non-reserved port number\n",
    "sockobj = socket(AF_INET, SOCK_STREAM) # make a TCP socket object\n",
    "sockobj.bind((myHost, myPort)) # bind it to server port number\n",
    "sockobj.listen(5) # listen, allow 5 pending connects\n",
    "while True: # listen until process killed\n",
    "    connection, address = sockobj.accept() # wait for next client connect\n",
    "    print('Server connected by', address) # connection is a new socket\n",
    "    while True:\n",
    "        data = connection.recv(1024) # read next line on client socket\n",
    "        if not data: break # send a reply line to the client\n",
    "        connection.send(b'Echo=>' + data) # until eof when socket closed\n",
    "    \n",
    "    connection.close()"
   ]
  },
  {
   "cell_type": "code",
   "execution_count": null,
   "id": "a9cda474",
   "metadata": {},
   "outputs": [],
   "source": [
    "%%writefile echo-client.py\n",
    "# \\Sockets\\echo-client.py\n",
    "\"\"\"\n",
    "Client side: use sockets to send data to the server, and print server's\n",
    "reply to each message line; 'localhost' means that the server is running\n",
    "on the same machine as the client, which lets us test client and server\n",
    "on one machine; to test over the Internet, run a server on a remote\n",
    "machine, and set serverHost or argv[1] to machine's domain name or IP addr;\n",
    "Python sockets are a portable BSD socket interface, with object methods\n",
    "for the standard socket calls available in the system's C library;\n",
    "\"\"\"\n",
    "import sys\n",
    "from socket import * # portable socket interface plus constants\n",
    "serverHost = 'localhost' # server name, or: 'starship.python.net'\n",
    "serverPort = 50008 # non-reserved port used by the server\n",
    "\n",
    "message = [b'Hello network world'] # default text to send to server\n",
    "                                 # requires bytes: b'' or str,encode()\n",
    "    \n",
    "if len(sys.argv) > 1:\n",
    "    serverHost = sys.argv[1] # server from cmd line arg 1\n",
    "    if len(sys.argv) > 2: # text from cmd line args 2..n\n",
    "        message = (x.encode() for x in sys.argv[2:])\n",
    "        \n",
    "sockobj = socket(AF_INET, SOCK_STREAM) # make a TCP/IP socket object\n",
    "sockobj.connect((serverHost, serverPort)) # connect to server machine + port\n",
    "\n",
    "for line in message:\n",
    "    sockobj.send(line) # send line to server over socket\n",
    "    data = sockobj.recv(1024) # receive line from server: up to 1k\n",
    "    print('Client received:', data) # bytes are quoted, was `x`, repr(x)\n",
    "    \n",
    "sockobj.close() # close socket to send eof to server"
   ]
  },
  {
   "cell_type": "code",
   "execution_count": null,
   "id": "2a60d493",
   "metadata": {},
   "outputs": [],
   "source": [
    "%%writefile thread-server.py\n",
    "# \\Sockets\\thread-server.py\n",
    "\"\"\"\n",
    "Server side: open a socket on a port, listen for a message from a client,\n",
    "and send an echo reply; echoes lines until eof when client closes socket;\n",
    "spawns a thread to handle each client connection; threads share global\n",
    "memory space with main thread; this is more portable than fork: threads\n",
    "work on standard Windows systems, but process forks do not;\n",
    "\"\"\"\n",
    "import time, _thread as thread # or use threading.Thread().start()\n",
    "from socket import * # get socket constructor and constants\n",
    "myHost = '' # server machine, '' means local host\n",
    "myPort = 50008 # listen on a non-reserved port number\n",
    "\n",
    "sockobj = socket(AF_INET, SOCK_STREAM) # make a TCP socket object\n",
    "sockobj.bind((myHost, myPort)) # bind it to server port number\n",
    "sockobj.listen(5) # allow up to 5 pending connects\n",
    "\n",
    "def now():\n",
    "    return time.ctime(time.time()) # current time on the server\n",
    "\n",
    "def handleClient(connection): # in spawned thread: reply\n",
    "    time.sleep(5) # simulate a blocking activity\n",
    "    while True: # read, write a client socket\n",
    "        data = connection.recv(1024)\n",
    "        if not data: break\n",
    "        reply = 'Echo=>%s at %s' % (data, now())\n",
    "        connection.send(reply.encode())\n",
    "    connection.close()\n",
    "        \n",
    "def dispatcher(): # listen until process killed\n",
    "    while True: # wait for next connection,\n",
    "        connection, address = sockobj.accept() # pass to thread for service\n",
    "        print('Server connected by', address, end=' ')\n",
    "        print('at', now())\n",
    "        thread.start_new_thread(handleClient, (connection,))\n",
    "dispatcher()\n"
   ]
  },
  {
   "cell_type": "code",
   "execution_count": null,
   "id": "95351e5c",
   "metadata": {},
   "outputs": [],
   "source": []
  },
  {
   "cell_type": "code",
   "execution_count": null,
   "id": "f4c86eb1",
   "metadata": {},
   "outputs": [],
   "source": []
  },
  {
   "cell_type": "code",
   "execution_count": null,
   "id": "8ab6d5c3",
   "metadata": {},
   "outputs": [],
   "source": []
  },
  {
   "cell_type": "code",
   "execution_count": null,
   "id": "25054485",
   "metadata": {},
   "outputs": [],
   "source": []
  },
  {
   "cell_type": "code",
   "execution_count": null,
   "id": "ba97fbfa",
   "metadata": {},
   "outputs": [],
   "source": []
  },
  {
   "cell_type": "markdown",
   "id": "06f04a7c",
   "metadata": {},
   "source": [
    "# Python in HTML\n",
    "Web Development is a vast field, and there are endless opportunities and things that we can do. With complexity and demand come requirements. When building dynamic web pages, we often have to perform tasks that require the assistance of some programming language such as Python or PHP.\n",
    "\n",
    "Run Python script in HTML using Django\n",
    "#### https://www.youtube.com/watch?v=LQTMqGns7Co\n",
    "#### https://www.youtube.com/watch?v=zuxzE7--RYM"
   ]
  },
  {
   "cell_type": "markdown",
   "id": "9a235653",
   "metadata": {},
   "source": [
    "### Install Django\n",
    "https://www.djangoproject.com/download/\n",
    "<br>https://docs.djangoproject.com/en/4.0/intro/install/\n",
    "<br>https://www.delftstack.com/howto/python/python-in-html/"
   ]
  },
  {
   "cell_type": "code",
   "execution_count": null,
   "id": "acbc86c9",
   "metadata": {},
   "outputs": [],
   "source": [
    "# Make a new directory\n",
    "import os\n",
    "os.mkdir(\"my_new_app1\")\n",
    "print(\"A new directory my_new_app1 created\")\n"
   ]
  },
  {
   "cell_type": "code",
   "execution_count": null,
   "id": "6da23f89",
   "metadata": {},
   "outputs": [],
   "source": [
    "os.getcwd()"
   ]
  },
  {
   "cell_type": "markdown",
   "id": "072a7874",
   "metadata": {},
   "source": [
    "open cmd and chdir to ```my_new_app```"
   ]
  },
  {
   "cell_type": "code",
   "execution_count": null,
   "id": "969e4117",
   "metadata": {},
   "outputs": [],
   "source": [
    "os.chdir('./my_new_app1')"
   ]
  },
  {
   "cell_type": "code",
   "execution_count": null,
   "id": "cbbf5862",
   "metadata": {},
   "outputs": [],
   "source": [
    "os.getcwd()"
   ]
  },
  {
   "cell_type": "markdown",
   "id": "15371923",
   "metadata": {},
   "source": [
    "set virtual environment using\n",
    "```\n",
    "python -m venv env\n",
    "```"
   ]
  },
  {
   "cell_type": "code",
   "execution_count": null,
   "id": "319614df",
   "metadata": {},
   "outputs": [],
   "source": [
    "!python -m venv env"
   ]
  },
  {
   "cell_type": "markdown",
   "id": "3d48782e",
   "metadata": {},
   "source": [
    "activate virtual environment using\n",
    "```\n",
    "env\\Scripts\\activte\n",
    "```"
   ]
  },
  {
   "cell_type": "code",
   "execution_count": null,
   "id": "4d48b859",
   "metadata": {},
   "outputs": [],
   "source": [
    "!env\\Scripts\\activate"
   ]
  },
  {
   "cell_type": "markdown",
   "id": "19922476",
   "metadata": {},
   "source": [
    "install Django using\n",
    "```\n",
    "pip install django\n",
    "```"
   ]
  },
  {
   "cell_type": "code",
   "execution_count": null,
   "id": "a2ef6bf7",
   "metadata": {},
   "outputs": [],
   "source": [
    "!pip install django"
   ]
  },
  {
   "cell_type": "markdown",
   "id": "df2632bd",
   "metadata": {},
   "source": [
    "Start new project using\n",
    "```\n",
    "django-admin startproject my_django_app\n",
    "```"
   ]
  },
  {
   "cell_type": "code",
   "execution_count": null,
   "id": "4dadca60",
   "metadata": {},
   "outputs": [],
   "source": [
    "!django-admin startproject my_django_app"
   ]
  },
  {
   "cell_type": "markdown",
   "id": "7dc68c47",
   "metadata": {},
   "source": [
    "change dirctory to my_django_app"
   ]
  },
  {
   "cell_type": "code",
   "execution_count": null,
   "id": "22438b19",
   "metadata": {},
   "outputs": [],
   "source": [
    "os.chdir('./my_django_app')\n",
    "os.getcwd()"
   ]
  },
  {
   "cell_type": "markdown",
   "id": "a9810dae",
   "metadata": {},
   "source": [
    "Start an app (you can create any number of app) using\n",
    "```\n",
    "python manage.py startapp hello\n",
    "```"
   ]
  },
  {
   "cell_type": "code",
   "execution_count": null,
   "id": "67fb6c4a",
   "metadata": {},
   "outputs": [],
   "source": [
    "!python manage.py startapp hello"
   ]
  },
  {
   "cell_type": "markdown",
   "id": "05bf1949",
   "metadata": {},
   "source": [
    "Edit the file ```setting.py``` of my_django_app directory\n",
    "<br> by adding\n",
    "```\n",
    "'hello'\n",
    "```\n",
    "<br> in the lsit ```INSTALLED_APPS``` as follows\n",
    "\n",
    "```\n",
    "INSTALLED_APPS=[\n",
    "    'django.contrib.admin',\n",
    "    .\n",
    "    .\n",
    "    .\n",
    "    'django.cotrib.staticfiles',\n",
    "    'hello',\n",
    "    ]\n",
    "```"
   ]
  },
  {
   "cell_type": "code",
   "execution_count": null,
   "id": "66a747f5",
   "metadata": {},
   "outputs": [],
   "source": [
    "os.chdir(\"E:\\VITBhopal\\Jan 2022\\CSE3011\\my_new_app1\\my_django_app\")"
   ]
  },
  {
   "cell_type": "code",
   "execution_count": null,
   "id": "08b0f686",
   "metadata": {},
   "outputs": [],
   "source": [
    "os.getcwd()"
   ]
  },
  {
   "cell_type": "markdown",
   "id": "e893135c",
   "metadata": {},
   "source": [
    "run server using cmd\n",
    "```\n",
    "python manage.py runserver\n",
    "```"
   ]
  },
  {
   "cell_type": "code",
   "execution_count": null,
   "id": "9b8e539c",
   "metadata": {},
   "outputs": [],
   "source": [
    "!start python manage.py runserver  #start help in opening in new console"
   ]
  },
  {
   "cell_type": "code",
   "execution_count": null,
   "id": "7c908ac2",
   "metadata": {},
   "outputs": [],
   "source": [
    "# apply the migration using\n",
    "# python manage.py migrate"
   ]
  },
  {
   "cell_type": "code",
   "execution_count": null,
   "id": "0f1250e9",
   "metadata": {},
   "outputs": [],
   "source": [
    "# create superuser by\n",
    "# python manage.py createsuperuser\n",
    "# user: lokesh\n",
    "# email: ashokbecse2006@yahoo.com\n",
    "# pwd: lokesh"
   ]
  },
  {
   "cell_type": "code",
   "execution_count": null,
   "id": "e6949cf9",
   "metadata": {},
   "outputs": [],
   "source": [
    "import os\n",
    "os.chdir('./my_new_app/my_django_app')\n",
    "os.getcwd()"
   ]
  },
  {
   "cell_type": "markdown",
   "id": "eb12dd4d",
   "metadata": {},
   "source": [
    "Change the directory to <b>hello directory\n",
    "    <br>Edit the file ```views.py``` "
   ]
  },
  {
   "cell_type": "code",
   "execution_count": null,
   "id": "f3d48f8d",
   "metadata": {},
   "outputs": [],
   "source": [
    "import os\n",
    "#os.chdir('..')\n",
    "os.chdir('E:\\\\VITBhopal\\\\Jan 2022\\\\CSE3011\\\\my_new_app1\\\\my_django_app\\\\hello')\n",
    "os.getcwd()"
   ]
  },
  {
   "cell_type": "markdown",
   "id": "02d2da9a",
   "metadata": {},
   "source": [
    "# update views.py in hello directory\n",
    "```\n",
    "from django.shortcuts import render\n",
    "# Create your views here.\n",
    "def index(request):\n",
    "    return render(request, 'hello/index.html')\n",
    "```"
   ]
  },
  {
   "cell_type": "code",
   "execution_count": null,
   "id": "4125347f",
   "metadata": {},
   "outputs": [],
   "source": [
    "!notepad views.py"
   ]
  },
  {
   "cell_type": "code",
   "execution_count": null,
   "id": "11447991",
   "metadata": {},
   "outputs": [],
   "source": [
    "import os\n",
    "os.mkdir('templates')\n",
    "os.chdir('./templates')\n",
    "os.getcwd()"
   ]
  },
  {
   "cell_type": "code",
   "execution_count": null,
   "id": "2b98b0d3",
   "metadata": {},
   "outputs": [],
   "source": [
    "import os\n",
    "os.mkdir('hello')\n",
    "os.chdir('./hello')\n",
    "os.getcwd()"
   ]
  },
  {
   "cell_type": "code",
   "execution_count": null,
   "id": "a9cc7c98",
   "metadata": {},
   "outputs": [],
   "source": [
    "f = open('index.html','w')\n",
    "str = '''\n",
    "<h1> Hello world</h1>\n",
    "'''\n",
    "f.write(str)\n",
    "f.close()"
   ]
  },
  {
   "cell_type": "code",
   "execution_count": null,
   "id": "7bb584ef",
   "metadata": {},
   "outputs": [],
   "source": [
    "import os\n",
    "\n",
    "os.chdir('E:\\\\VITBhopal\\\\Jan 2022\\\\CSE3011\\\\my_new_app1\\\\my_django_app\\\\my_django_app')\n",
    "\n",
    "os.getcwd()"
   ]
  },
  {
   "cell_type": "markdown",
   "id": "efa9e07a",
   "metadata": {},
   "source": [
    "# update urls.py in my_django_app drive\n",
    "\n",
    "following lines can be added<br>\n",
    "from hello.views import index</br>\n",
    "<br>path('hello/', index)</br>\n",
    "```\n",
    "\"\"\"my_django_app URL Configuration\n",
    "\n",
    "The `urlpatterns` list routes URLs to views. For more information please see:\n",
    "    https://docs.djangoproject.com/en/4.0/topics/http/urls/\n",
    "Examples:\n",
    "Function views\n",
    "    1. Add an import:  from my_app import views\n",
    "    2. Add a URL to urlpatterns:  path('', views.home, name='home')\n",
    "Class-based views\n",
    "    1. Add an import:  from other_app.views import Home\n",
    "    2. Add a URL to urlpatterns:  path('', Home.as_view(), name='home')\n",
    "Including another URLconf\n",
    "    1. Import the include() function: from django.urls import include, path\n",
    "    2. Add a URL to urlpatterns:  path('blog/', include('blog.urls'))\n",
    "\"\"\"\n",
    "from django.contrib import admin\n",
    "from django.urls import path\n",
    "from hello.views import index\n",
    "\n",
    "urlpatterns = [\n",
    "    path('admin/', admin.site.urls),\n",
    "    path('hello/', index)\n",
    "\n",
    "\n",
    "]\n",
    "```"
   ]
  },
  {
   "cell_type": "code",
   "execution_count": null,
   "id": "c0857efb",
   "metadata": {},
   "outputs": [],
   "source": [
    "!notepad urls.py"
   ]
  },
  {
   "cell_type": "markdown",
   "id": "42bfe091",
   "metadata": {},
   "source": [
    "Edit the url of browser as <br>\n",
    "http://127.0.0.1:8000/hello/"
   ]
  },
  {
   "cell_type": "code",
   "execution_count": null,
   "id": "480c019e",
   "metadata": {},
   "outputs": [],
   "source": []
  },
  {
   "cell_type": "markdown",
   "id": "42f09973",
   "metadata": {},
   "source": [
    "# Download pages\n",
    "Using Python to download files from the internet is super easy and possible using only standard library functions."
   ]
  },
  {
   "cell_type": "code",
   "execution_count": null,
   "id": "2bbaa021",
   "metadata": {},
   "outputs": [],
   "source": [
    "import os\n",
    "os.chdir(\"E:\\VITBhopal\\Jan 2022\\CSE3011\")\n",
    "os.getcwd()"
   ]
  },
  {
   "cell_type": "code",
   "execution_count": null,
   "id": "c9b0342f",
   "metadata": {},
   "outputs": [],
   "source": [
    "# Python’s urllib library offers a range of functions designed to handle common URL-related tasks. \n",
    "# This includes parsing, requesting, and downloading files.\n",
    "from urllib import request\n",
    "# Define the remote file to retrieve\n",
    "remote_url = 'https://www.google.com/robots.txt'\n",
    "# Define the local filename to save data\n",
    "local_file = 'local_copy.txt'\n",
    "# Download remote and save locally\n",
    "request.urlretrieve(remote_url, local_file)"
   ]
  },
  {
   "cell_type": "code",
   "execution_count": null,
   "id": "450483bb",
   "metadata": {},
   "outputs": [],
   "source": [
    "# The Python Requests module is a super-friendly library billed as “HTTP for humans.” \n",
    "# Offering very simplified APIs, Requests lives up to its motto for even high-throughput HTTP-related demands. \n",
    "# However, it doesn’t feature a one-liner for downloading files.\n",
    "import requests\n",
    "# Define the remote file to retrieve\n",
    "remote_url = 'https://www.google.com/robots.txt'\n",
    "# Define the local filename to save data\n",
    "local_file = 'local_copy.txt'\n",
    "# Make http request for remote file data\n",
    "data = requests.get(remote_url)\n",
    "# Save file data to local copy\n",
    "with open(local_file, 'wb')as file:\n",
    "    file.write(data.content)"
   ]
  },
  {
   "cell_type": "code",
   "execution_count": null,
   "id": "15066864",
   "metadata": {},
   "outputs": [],
   "source": [
    "!pip install wget"
   ]
  },
  {
   "cell_type": "code",
   "execution_count": null,
   "id": "f832b623",
   "metadata": {},
   "outputs": [],
   "source": [
    "# The wget Python library offers a method similar to urllib and attracts \n",
    "# a lot of attention due to its name being identical to the Linux wget command. \n",
    "import wget\n",
    "# Define the remote file to retrieve\n",
    "remote_url = 'https://www.google.com/robots.txt'\n",
    "# Define the local filename to save data\n",
    "local_file = 'local_copy.txt'\n",
    "# Make http request for remote file data\n",
    "wget.download(remote_url, local_file)"
   ]
  },
  {
   "cell_type": "markdown",
   "id": "dd20bbdc",
   "metadata": {},
   "source": [
    "### About URLs\n",
    "A web page is a file that is stored on another computer, a machine known as a web server. When you “go to” a web page, what is actually happening is that your computer, (the client) sends a request to the server (the host) out over the network, and the server replies by sending a copy of the page back to your machine.\n",
    "\n",
    "The URL tells your browser where to find an online resource by specifying the server, directory and name of the file to be retrieved, as well as the kind of protocol that the server and your browser will agree to use while exchanging information (like HTTP, the Hypertext Transfer Protocol). \n",
    "\n",
    "The basic structure of a URL is\n",
    "```\n",
    "protocol://host:port/path?query\n",
    "ex.\n",
    "http://oldbaileyonline.org/static/Project.jsp\n",
    "http://www.oldbaileyonline.org/browse.jsp?id=t17800628-33&div=t17800628-33\n",
    "\n",
    "```\n",
    "\n",
    "##### https://programminghistorian.org/en/lessons/working-with-web-pages"
   ]
  },
  {
   "cell_type": "code",
   "execution_count": null,
   "id": "f86f6149",
   "metadata": {},
   "outputs": [],
   "source": [
    "# Opening URLs with Python\n",
    "import urllib.request, urllib.error, urllib.parse\n",
    "\n",
    "url = 'http://www.oldbaileyonline.org/browse.jsp?id=t17800628-33&div=t17800628-33'\n",
    "\n",
    "response = urllib.request.urlopen(url)\n",
    "webContent = response.read().decode('UTF-8')\n",
    "\n",
    "print(webContent[0:300])"
   ]
  },
  {
   "cell_type": "code",
   "execution_count": null,
   "id": "520c067f",
   "metadata": {},
   "outputs": [],
   "source": [
    "# Saving a Local Copy of a Web Page\n",
    "import urllib.request, urllib.error, urllib.parse\n",
    "\n",
    "url = 'http://www.oldbaileyonline.org/browse.jsp?id=t17800628-33&div=t17800628-33'\n",
    "\n",
    "response = urllib.request.urlopen(url)\n",
    "webContent = response.read().decode('UTF-8')\n",
    "\n",
    "f = open('obo-t17800628-33.html', 'w')\n",
    "f.write(webContent)\n",
    "f.close"
   ]
  },
  {
   "cell_type": "code",
   "execution_count": null,
   "id": "59a001e8",
   "metadata": {},
   "outputs": [],
   "source": []
  },
  {
   "cell_type": "code",
   "execution_count": null,
   "id": "a91aea49",
   "metadata": {},
   "outputs": [],
   "source": []
  },
  {
   "cell_type": "code",
   "execution_count": null,
   "id": "be623d1f",
   "metadata": {},
   "outputs": [],
   "source": []
  },
  {
   "cell_type": "markdown",
   "id": "d80da3c1",
   "metadata": {},
   "source": [
    "# CGI \n",
    "\n",
    "\n",
    "https://www.youtube.com/watch?v=Nrrz_0jEqGQ\n",
    "\n",
    "https://www.youtube.com/watch?v=8LEWb-eF8TE\n",
    "\n"
   ]
  },
  {
   "cell_type": "markdown",
   "id": "a6bf7e65",
   "metadata": {},
   "source": [
    "<li>start apache server in xmapp control panel\n",
    "<li> go to browser and check 127.0.0.1:80 for apache server\n",
    "<li>click on config tab on apache server and select httpd.config\n",
    "<li> Search for option Indexes and ExecCGI is there if not add\n",
    "<br>\n",
    "    \n",
    "    Options Indexes FollowSymLinks Includes ExecCGI\n",
    " <br>\n",
    "<li> Search for AddHandler and add .py and .cgi\n",
    "    <br>\n",
    "        \n",
    "            AddHandler cgi-script .cgi .pl .asp .py\n",
    "<br>\n",
    "<li> save the file and close it\n",
    "<li> restart the apache from xampp control panel\n",
    "<li> create a pycgi directory inside xampp/htdocs\n",
    "<li> create .py file inside pycgi directory\n"
   ]
  },
  {
   "cell_type": "code",
   "execution_count": null,
   "id": "50571d9e",
   "metadata": {},
   "outputs": [],
   "source": [
    "#!C:\\Users\\ADMIN\\AppData\\Local\\Programs\\Python\\Python38\\python.exe\n",
    "\n",
    "print(\"Content-type:text/html\\r\\n\\r\\n\")\n",
    "print('<html>')\n",
    "print('<head>')\n",
    "print('<title>Hello World - First CGI Program</title>')\n",
    "print('</head>')\n",
    "print('<body>')\n",
    "print('<h2>Hello World! This is my first CGI program</h2>')\n",
    "print('</body>')\n",
    "print('</html>')\n"
   ]
  },
  {
   "cell_type": "markdown",
   "id": "bffdd4d7",
   "metadata": {},
   "source": [
    "save as hello.py\n",
    "<br> open url in browser 127.0.0.1:80/pycgi/hello.py\n",
    "<br> you will get\n",
    "<br><b>Hello World! This is my first CGI program"
   ]
  },
  {
   "cell_type": "code",
   "execution_count": null,
   "id": "1a7cfb2f",
   "metadata": {},
   "outputs": [],
   "source": [
    "#!C:\\Users\\ADMIN\\AppData\\Local\\Programs\\Python\\Python310\\python.exe\n",
    "\n",
    "# Import modules for CGI handling \n",
    "import cgi, cgitb \n",
    "\n",
    "# Create instance of FieldStorage \n",
    "form = cgi.FieldStorage() \n",
    "\n",
    "# Get data from fields\n",
    "first_name = form.getvalue('first_name')\n",
    "last_name  = form.getvalue('last_name')\n",
    "\n",
    "print(\"Content-type:text/html\\r\\n\\r\\n\")\n",
    "print('<html>')\n",
    "print('<head>')\n",
    "print('<title>Hello World - Second CGI Program</title>')\n",
    "print('</head>')\n",
    "print('<body>')\n",
    "print(\"<h2>Hello %s %s</h2>\" % (first_name, last_name))\n",
    "print('</body>')\n",
    "print('</html>')\n"
   ]
  },
  {
   "cell_type": "markdown",
   "id": "a3e845de",
   "metadata": {},
   "source": [
    "save as hello_get.py\n",
    "<br> open url in browser 127.0.0.1:80/pycgi/hello_get.py?first_name=Ashok&last_name=Patel\n",
    "<br> you will get\n",
    "<br><b>Hello Ashok Patel"
   ]
  },
  {
   "cell_type": "code",
   "execution_count": null,
   "id": "f1cc98a2",
   "metadata": {},
   "outputs": [],
   "source": [
    "<html>\n",
    "<head>\n",
    "<title>Get Response</title>\n",
    "</head>\n",
    "\n",
    "<body>\n",
    "<form action = \"/pycgi/hello_get.py\" method = \"get\">\n",
    "First Name: <input type = \"text\" name = \"first_name\">  <br />\n",
    "\n",
    "Last Name: <input type = \"text\" name = \"last_name\" />\n",
    "<input type = \"submit\" value = \"Submit\" />\n",
    "</form>\n",
    "<body>"
   ]
  },
  {
   "cell_type": "markdown",
   "id": "e38811d3",
   "metadata": {},
   "source": [
    "create html page and passes two values using HTML FORM and submit button."
   ]
  },
  {
   "cell_type": "code",
   "execution_count": null,
   "id": "d636e723",
   "metadata": {},
   "outputs": [],
   "source": [
    "<html>\n",
    "<head>\n",
    "<title>Get Response</title>\n",
    "</head>\n",
    "\n",
    "<body>\n",
    "<form action = \"/pycgi/hello_get.py\" method = \"post\" target = \"_blank\" >\n",
    "First Name: <input type = \"text\" name = \"first_name\">  <br />\n",
    "\n",
    "Last Name: <input type = \"text\" name = \"last_name\" />\n",
    "<input type = \"submit\" value = \"Submit\" />\n",
    "</form>\n",
    "<body>"
   ]
  },
  {
   "cell_type": "code",
   "execution_count": null,
   "id": "426398df",
   "metadata": {},
   "outputs": [],
   "source": []
  },
  {
   "cell_type": "code",
   "execution_count": null,
   "id": "2470113e",
   "metadata": {},
   "outputs": [],
   "source": []
  },
  {
   "cell_type": "markdown",
   "id": "b080e594",
   "metadata": {},
   "source": [
    "# Other resources\n",
    "https://www.youtube.com/watch?v=VMP1oQOxfM0"
   ]
  },
  {
   "cell_type": "markdown",
   "id": "1718b70d",
   "metadata": {},
   "source": [
    "Mark Lutz - Programming Python-O'Reilly (2011)"
   ]
  },
  {
   "cell_type": "code",
   "execution_count": null,
   "id": "f6d37411",
   "metadata": {},
   "outputs": [],
   "source": []
  }
 ],
 "metadata": {
  "kernelspec": {
   "display_name": "Python 3.10.7 64-bit",
   "language": "python",
   "name": "python3"
  },
  "language_info": {
   "codemirror_mode": {
    "name": "ipython",
    "version": 3
   },
   "file_extension": ".py",
   "mimetype": "text/x-python",
   "name": "python",
   "nbconvert_exporter": "python",
   "pygments_lexer": "ipython3",
   "version": "3.10.7"
  },
  "vscode": {
   "interpreter": {
    "hash": "921cbf08fd751dd525e2b1251b3410f890978447aabbb05cf6e896c3d6e78bd3"
   }
  }
 },
 "nbformat": 4,
 "nbformat_minor": 5
}
